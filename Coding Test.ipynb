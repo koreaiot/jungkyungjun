{
 "cells": [
  {
   "cell_type": "code",
   "execution_count": 185,
   "metadata": {},
   "outputs": [],
   "source": [
    "import heapq\n",
    "scoville = [1, 2, 3, 9, 10, 12]\n",
    "k = 150\n",
    "answer = 0"
   ]
  },
  {
   "cell_type": "code",
   "execution_count": 186,
   "metadata": {},
   "outputs": [],
   "source": [
    "heapq.heapify(scoville)"
   ]
  },
  {
   "cell_type": "code",
   "execution_count": 187,
   "metadata": {
    "scrolled": true
   },
   "outputs": [
    {
     "data": {
      "text/plain": [
       "[1, 2, 3, 9, 10, 12]"
      ]
     },
     "execution_count": 187,
     "metadata": {},
     "output_type": "execute_result"
    }
   ],
   "source": [
    "scoville"
   ]
  },
  {
   "cell_type": "code",
   "execution_count": 188,
   "metadata": {},
   "outputs": [
    {
     "name": "stdout",
     "output_type": "stream",
     "text": [
      "[3, 5, 10, 12, 9] 1\n",
      "[9, 12, 10, 13] 2\n",
      "[12, 13, 29] 3\n",
      "[29, 38] 4\n",
      "[105] 5\n"
     ]
    }
   ],
   "source": [
    "while(min(scoville) < k):\n",
    "    if (len(scoville) == 1):\n",
    "        break\n",
    "    else:\n",
    "        min1 = heapq.heappop(scoville)\n",
    "        min2 = heapq.heappop(scoville)\n",
    "\n",
    "        heapq.heappush(scoville, (min1 + (min2*2)))\n",
    "\n",
    "        answer += 1\n",
    "    \n",
    "\n",
    "    print(scoville , answer)"
   ]
  },
  {
   "cell_type": "code",
   "execution_count": 180,
   "metadata": {},
   "outputs": [
    {
     "data": {
      "text/plain": [
       "[29, 38]"
      ]
     },
     "execution_count": 180,
     "metadata": {},
     "output_type": "execute_result"
    }
   ],
   "source": [
    "scoville"
   ]
  },
  {
   "cell_type": "code",
   "execution_count": 189,
   "metadata": {},
   "outputs": [],
   "source": [
    "import heapq\n",
    "\n",
    "def solution(scoville, K):\n",
    "    answer = 0\n",
    "    heapq.heapify(scoville)\n",
    "    \n",
    "    while(min(scoville) < K):\n",
    "        if (len(scoville) == 1):\n",
    "            if scoville[0] < K:\n",
    "                answer = -1\n",
    "                break\n",
    "            else:\n",
    "                break\n",
    "        else:\n",
    "            min1 = heapq.heappop(scoville)\n",
    "            min2 = heapq.heappop(scoville)\n",
    "\n",
    "            heapq.heappush(scoville, (min1 + (min2*2)))\n",
    "\n",
    "            answer += 1\n",
    "\n",
    "    return answer"
   ]
  },
  {
   "cell_type": "code",
   "execution_count": 195,
   "metadata": {},
   "outputs": [],
   "source": []
  },
  {
   "cell_type": "code",
   "execution_count": 202,
   "metadata": {},
   "outputs": [
    {
     "name": "stdout",
     "output_type": "stream",
     "text": [
      "[1, 3, 4, 4, 3, 7, 9]\n"
     ]
    }
   ],
   "source": [
    "heap = [4,3,1,4,3,7,9]\n",
    "heapq.heapify(heap)\n",
    "\n",
    "print(heap)"
   ]
  },
  {
   "cell_type": "code",
   "execution_count": 207,
   "metadata": {},
   "outputs": [
    {
     "data": {
      "text/plain": [
       "(0, 1, 1, 2, 3, 5)"
      ]
     },
     "execution_count": 207,
     "metadata": {},
     "output_type": "execute_result"
    }
   ],
   "source": [
    "0, 1, 1, 2, 3, 5"
   ]
  },
  {
   "cell_type": "markdown",
   "metadata": {},
   "source": [
    "# 피보나치 수열"
   ]
  },
  {
   "cell_type": "code",
   "execution_count": 275,
   "metadata": {},
   "outputs": [
    {
     "data": {
      "text/plain": [
       "325122"
      ]
     },
     "execution_count": 275,
     "metadata": {},
     "output_type": "execute_result"
    }
   ],
   "source": [
    "n = 55555\n",
    "\n",
    "\n",
    "\n",
    "\n",
    "def solution(x):\n",
    "    d = [0] * (x+1)\n",
    "\n",
    "    d[1] = 1\n",
    "    d[2] = 1\n",
    "\n",
    "    for i in range(2, x+1):\n",
    "        d[i] = d[i-1] + d[i-2]\n",
    "\n",
    "    return d[i] % 1234567\n",
    "\n",
    "solution(n)"
   ]
  },
  {
   "cell_type": "code",
   "execution_count": 284,
   "metadata": {},
   "outputs": [
    {
     "data": {
      "text/plain": [
       "1725375039079340637797070384"
      ]
     },
     "execution_count": 284,
     "metadata": {},
     "output_type": "execute_result"
    }
   ],
   "source": [
    "def fibo(x):\n",
    "    \n",
    "    a,b = 0,1\n",
    "    \n",
    "    for i in range(x):\n",
    "        a,b = b, a+b\n",
    "        \n",
    "    return a\n",
    "\n",
    "fibo(132)"
   ]
  },
  {
   "cell_type": "markdown",
   "metadata": {},
   "source": [
    "# 행렬의 곱"
   ]
  },
  {
   "cell_type": "code",
   "execution_count": 89,
   "metadata": {},
   "outputs": [],
   "source": [
    "arr1 = [[1, 4], [3, 2], [4, 1]]\n",
    "arr2 = [[3, 3], [3, 3]]"
   ]
  },
  {
   "cell_type": "code",
   "execution_count": 261,
   "metadata": {
    "scrolled": true
   },
   "outputs": [
    {
     "name": "stdout",
     "output_type": "stream",
     "text": [
      "[[0, 0], [0, 0], [0, 0]] 0 0 0\n",
      "[[0, 0], [0, 0], [0, 0]] 0 1 0\n",
      "[[22, 0], [0, 0], [0, 0]] 0 2 0\n",
      "[[22, 0], [0, 0], [0, 0]] 1 0 0\n",
      "[[22, 0], [0, 0], [0, 0]] 1 1 0\n",
      "[[22, 0], [36, 0], [0, 0]] 1 2 0\n",
      "[[22, 0], [36, 0], [0, 0]] 2 0 0\n",
      "[[22, 0], [36, 0], [0, 0]] 2 1 0\n",
      "[[22, 0], [36, 0], [29, 0]] 2 2 0\n",
      "[[22, 0], [36, 0], [29, 0]] 0 0 1\n",
      "[[22, 0], [36, 0], [29, 0]] 0 1 1\n",
      "[[22, 22], [36, 0], [29, 0]] 0 2 1\n",
      "[[22, 22], [36, 0], [29, 0]] 1 0 1\n",
      "[[22, 22], [36, 0], [29, 0]] 1 1 1\n",
      "[[22, 22], [36, 28], [29, 0]] 1 2 1\n",
      "[[22, 22], [36, 28], [29, 0]] 2 0 1\n",
      "[[22, 22], [36, 28], [29, 0]] 2 1 1\n",
      "[[22, 22], [36, 28], [29, 20]] 2 2 1\n"
     ]
    }
   ],
   "source": [
    "answer = [[0 for j in range(len(arr2[0]))] for i in range(len(arr1))]\n",
    "answer\n",
    "\n",
    "sum = 0\n",
    "for k in range(len(arr2[0])):\n",
    "    for i in range(len(arr1)):\n",
    "        for j in range(len(arr2)):\n",
    "            sum += arr1[i][j] * arr2[j][k]\n",
    "            if j == len(arr2)-1:\n",
    "                answer[i][k] = sum\n",
    "                sum = 0\n",
    "            print(answer , i,j,k)"
   ]
  },
  {
   "cell_type": "code",
   "execution_count": 1,
   "metadata": {},
   "outputs": [],
   "source": [
    "# 다른풀이\n",
    "def productMatrix(A, B):\n",
    "    return [[sum(a*b for a, b in zip(A_row,B_col)) for B_col in zip(*B)] for A_row in A]\n"
   ]
  },
  {
   "cell_type": "markdown",
   "metadata": {},
   "source": [
    "# 짝지어 제거하기"
   ]
  },
  {
   "cell_type": "code",
   "execution_count": 5,
   "metadata": {},
   "outputs": [],
   "source": [
    "# 시간초과 뜬다."
   ]
  },
  {
   "cell_type": "code",
   "execution_count": 316,
   "metadata": {
    "scrolled": true
   },
   "outputs": [
    {
     "name": "stdout",
     "output_type": "stream",
     "text": [
      "1\n"
     ]
    },
    {
     "data": {
      "text/plain": [
       "0"
      ]
     },
     "execution_count": 316,
     "metadata": {},
     "output_type": "execute_result"
    }
   ],
   "source": [
    "s = \"baabaabbcccd\"\n",
    "\n",
    "def solution(s):\n",
    "    s = list(s)\n",
    "    ss = \"\"\n",
    "    result = 0\n",
    "    while len(s) > 0:\n",
    "        cnt = 0\n",
    "\n",
    "        for i in range(1,len(s)):\n",
    "            if s[i] == s[i-1]:\n",
    "                s[i] = \"!\"\n",
    "                s[i-1] = \"!\"\n",
    "\n",
    "        for j in s:\n",
    "            if j == \"!\":\n",
    "                cnt += 1\n",
    "            else:\n",
    "                ss += j\n",
    "\n",
    "        if cnt == 0:\n",
    "            print(\"1\")\n",
    "            break\n",
    "            \n",
    "        else:\n",
    "            s = list(ss)\n",
    "            ss = \"\"\n",
    "\n",
    "        if len(s) == 1:\n",
    "            result = 0\n",
    "        if len(s) == 0:\n",
    "            result = 1\n",
    "\n",
    "    return result\n",
    "\n",
    "solution(s)"
   ]
  },
  {
   "cell_type": "markdown",
   "metadata": {},
   "source": [
    "# 예상대진표"
   ]
  },
  {
   "cell_type": "code",
   "execution_count": 30,
   "metadata": {},
   "outputs": [
    {
     "data": {
      "text/plain": [
       "3"
      ]
     },
     "execution_count": 30,
     "metadata": {},
     "output_type": "execute_result"
    }
   ],
   "source": [
    "def solution(n,a,b):\n",
    "    answer = 1\n",
    "    a = a-1\n",
    "    b = b-1\n",
    "\n",
    "    while True:\n",
    "        if a//2 != b//2:\n",
    "            a = a//2\n",
    "            b = b//2\n",
    "            answer += 1\n",
    "        else:\n",
    "            break\n",
    "    return answer\n",
    "\n",
    "solution(8,4,7)"
   ]
  },
  {
   "cell_type": "markdown",
   "metadata": {},
   "source": [
    "다른풀이`"
   ]
  },
  {
   "cell_type": "code",
   "execution_count": 31,
   "metadata": {},
   "outputs": [
    {
     "data": {
      "text/plain": [
       "3"
      ]
     },
     "execution_count": 31,
     "metadata": {},
     "output_type": "execute_result"
    }
   ],
   "source": [
    "def solution(n,a,b):\n",
    "    return ((a-1)^(b-1)).bit_length()\n",
    "\n",
    "solution(8,4,7)"
   ]
  },
  {
   "cell_type": "markdown",
   "metadata": {},
   "source": [
    "# 전화번호 목록"
   ]
  },
  {
   "cell_type": "code",
   "execution_count": 203,
   "metadata": {},
   "outputs": [
    {
     "data": {
      "text/plain": [
       "False"
      ]
     },
     "execution_count": 203,
     "metadata": {},
     "output_type": "execute_result"
    }
   ],
   "source": [
    "phone_book = [\"112\",\"44\",\"4544\",\"123\",\"234\",\"34\",\"113535112\",\"34135\"]\n",
    "\n",
    "def solution (phone_book) :\n",
    "    phone_book.sort()\n",
    "    for i in range(len(phone_book)-1) :\n",
    "        if phone_book[i] == phone_book[i+1][:len(phone_book[i])] :\n",
    "            return False\n",
    "    return True\n",
    "\n",
    "solution(phone_book)"
   ]
  },
  {
   "cell_type": "markdown",
   "metadata": {},
   "source": [
    "다른풀이"
   ]
  },
  {
   "cell_type": "code",
   "execution_count": 206,
   "metadata": {},
   "outputs": [
    {
     "name": "stdout",
     "output_type": "stream",
     "text": [
      "['112', '113535112', '123', '234', '34', '34135', '44', '4544']\n",
      "112 113535112\n",
      "113535112 123\n",
      "123 234\n",
      "234 34\n",
      "34 34135\n"
     ]
    },
    {
     "data": {
      "text/plain": [
       "False"
      ]
     },
     "execution_count": 206,
     "metadata": {},
     "output_type": "execute_result"
    }
   ],
   "source": [
    "def solution(phoneBook):\n",
    "    phoneBook = sorted(phoneBook)\n",
    "    print(phoneBook)\n",
    "    for p1, p2 in zip(phoneBook, phoneBook[1:]):\n",
    "        print(p1,p2)\n",
    "        if p2.startswith(p1):\n",
    "            return False\n",
    "    return True\n",
    "\n",
    "solution(phone_book)"
   ]
  },
  {
   "cell_type": "markdown",
   "metadata": {},
   "source": [
    "# 쿼드압축 후 개수세기     (다시 풀어야함)"
   ]
  },
  {
   "cell_type": "code",
   "execution_count": 36,
   "metadata": {},
   "outputs": [
    {
     "data": {
      "text/plain": [
       "[[1, 1, 1, 1, 1, 1, 1, 1],\n",
       " [0, 1, 1, 1, 1, 1, 1, 1],\n",
       " [0, 0, 0, 0, 1, 1, 1, 1],\n",
       " [0, 1, 0, 0, 1, 1, 1, 1],\n",
       " [0, 0, 0, 0, 0, 0, 1, 1],\n",
       " [0, 0, 0, 0, 0, 0, 0, 1],\n",
       " [0, 0, 0, 0, 1, 0, 0, 1],\n",
       " [0, 0, 0, 0, 1, 1, 1, 1]]"
      ]
     },
     "execution_count": 36,
     "metadata": {},
     "output_type": "execute_result"
    }
   ],
   "source": [
    "arr = [[1,1,1,1,1,1,1,1],[0,1,1,1,1,1,1,1],[0,0,0,0,1,1,1,1],[0,1,0,0,1,1,1,1],[0,0,0,0,0,0,1,1],[0,0,0,0,0,0,0,1],[0,0,0,0,1,0,0,1],[0,0,0,0,1,1,1,1]]\n",
    "arr"
   ]
  },
  {
   "cell_type": "code",
   "execution_count": 37,
   "metadata": {
    "scrolled": true
   },
   "outputs": [
    {
     "data": {
      "text/plain": [
       "[10, 15]"
      ]
     },
     "execution_count": 37,
     "metadata": {},
     "output_type": "execute_result"
    }
   ],
   "source": [
    "def solution(arr):\n",
    "   \n",
    "    def repeat(y,x,n):\n",
    "        \n",
    "        if n == 1:\n",
    "            return [1,0] if arr[y][x] == 0 else [0,1]\n",
    "        \n",
    "        shape1 = repeat(y, x, n//2)\n",
    "        shape2 = repeat(y+n//2, x, n//2)\n",
    "        shape3 = repeat(y, x+n//2, n//2)\n",
    "        shape4 = repeat(y+n//2, x+n//2, n//2)\n",
    "        \n",
    "        if shape1 == shape2 == shape3 == shape4 == [1,0] or shape1 == shape2 == shape3 == shape4 == [0,1]:\n",
    "            return shape1\n",
    "        else:\n",
    "            return list(map(sum, zip(shape1,shape2,shape3,shape4)))\n",
    "        \n",
    "    return repeat(0,0,len(arr))\n",
    "\n",
    "solution(arr)"
   ]
  },
  {
   "cell_type": "markdown",
   "metadata": {},
   "source": [
    "분할정복 : https://m.blog.naver.com/sunbi5252/221977857377"
   ]
  },
  {
   "cell_type": "markdown",
   "metadata": {},
   "source": [
    "# JadenCase 문자열 만들기"
   ]
  },
  {
   "cell_type": "code",
   "execution_count": 125,
   "metadata": {},
   "outputs": [],
   "source": [
    "s = \"3people unFollowed me  for the last week\"\n",
    "answer = s[0].upper()"
   ]
  },
  {
   "cell_type": "markdown",
   "metadata": {},
   "source": [
    "내풀이`"
   ]
  },
  {
   "cell_type": "code",
   "execution_count": 126,
   "metadata": {},
   "outputs": [
    {
     "data": {
      "text/plain": [
       "'3people Unfollowed Me  For The Last Week'"
      ]
     },
     "execution_count": 126,
     "metadata": {},
     "output_type": "execute_result"
    }
   ],
   "source": [
    "def solution(s):\n",
    "    answer = s[0].upper()\n",
    "    for i in s[1:]:\n",
    "        if answer[-1] == \" \":\n",
    "            answer += i.upper()\n",
    "        else:\n",
    "            answer += i.lower()\n",
    "\n",
    "    return answer\n",
    "\n",
    "solution(s)"
   ]
  },
  {
   "cell_type": "markdown",
   "metadata": {},
   "source": [
    "다른풀이"
   ]
  },
  {
   "cell_type": "code",
   "execution_count": 127,
   "metadata": {},
   "outputs": [
    {
     "data": {
      "text/plain": [
       "'3people Unfollowed Me  For The Last Week'"
      ]
     },
     "execution_count": 127,
     "metadata": {},
     "output_type": "execute_result"
    }
   ],
   "source": [
    "def solution(s):\n",
    "    return ' '.join([word.capitalize() for word in s.split(\" \")])\n",
    "\n",
    "solution(s)"
   ]
  },
  {
   "cell_type": "markdown",
   "metadata": {},
   "source": [
    "# 올바른 괄호"
   ]
  },
  {
   "cell_type": "markdown",
   "metadata": {},
   "source": [
    "내풀이"
   ]
  },
  {
   "cell_type": "code",
   "execution_count": 164,
   "metadata": {},
   "outputs": [
    {
     "data": {
      "text/plain": [
       "False"
      ]
     },
     "execution_count": 164,
     "metadata": {},
     "output_type": "execute_result"
    }
   ],
   "source": [
    "s = \"())(\"\n",
    "\n",
    "def solution(s):\n",
    "    count = 0\n",
    "    \n",
    "    for i in s:\n",
    "        if count < 0:\n",
    "            return False\n",
    "        else:\n",
    "            if i == \")\":\n",
    "                count -= 1\n",
    "            else:\n",
    "                count += 1\n",
    "    return True if count == 0 else False\n",
    "\n",
    "solution(s)"
   ]
  },
  {
   "cell_type": "markdown",
   "metadata": {},
   "source": [
    "# 주식가격"
   ]
  },
  {
   "cell_type": "markdown",
   "metadata": {},
   "source": [
    "내풀이 : 시간초과"
   ]
  },
  {
   "cell_type": "code",
   "execution_count": 228,
   "metadata": {},
   "outputs": [],
   "source": [
    "def solution(prices):\n",
    "    \n",
    "    answer = []\n",
    "\n",
    "    for i in range(len(prices)-1):\n",
    "        cnt = 0\n",
    "        for j in range(i+1,len(prices)):\n",
    "\n",
    "            if prices[i] <= prices[j]:\n",
    "                cnt += 1\n",
    "            if prices[i] > prices[j]:\n",
    "                answer.append(cnt+1)\n",
    "                break\n",
    "\n",
    "            if j == len(prices)-1:\n",
    "                answer.append(cnt)\n",
    "                break\n",
    "\n",
    "\n",
    "    answer.append(0)\n",
    "    return answer"
   ]
  },
  {
   "cell_type": "markdown",
   "metadata": {},
   "source": [
    "내풀이 : 통과"
   ]
  },
  {
   "cell_type": "code",
   "execution_count": 229,
   "metadata": {},
   "outputs": [],
   "source": [
    "def solution(prices):\n",
    "    answer = []\n",
    "    for i in range(len(prices)-1): \n",
    "        count = 0\n",
    "        for j in range(i+1, len(prices)): \n",
    "            if(j == len(prices) - 1 or prices[i] > prices[j]): \n",
    "                answer.append(count+1)\n",
    "                break\n",
    "            else : \n",
    "                count +=1\n",
    "    answer += [0]\n",
    "\n",
    "    return answer"
   ]
  },
  {
   "cell_type": "markdown",
   "metadata": {},
   "source": [
    "다른풀이"
   ]
  },
  {
   "cell_type": "code",
   "execution_count": 231,
   "metadata": {},
   "outputs": [],
   "source": [
    "def solution(prices):\n",
    "    answer = [0] * len(prices)\n",
    "    for i in range(len(prices)):\n",
    "        for j in range(i+1, len(prices)):\n",
    "            if prices[i] <= prices[j]:\n",
    "                answer[i] += 1\n",
    "            else:\n",
    "                answer[i] += 1\n",
    "                break\n",
    "    return answer"
   ]
  },
  {
   "cell_type": "markdown",
   "metadata": {},
   "source": [
    "다른풀이2"
   ]
  },
  {
   "cell_type": "code",
   "execution_count": 232,
   "metadata": {},
   "outputs": [],
   "source": [
    "from collections import deque\n",
    "def solution(prices):\n",
    "    answer = []\n",
    "    prices = deque(prices)\n",
    "    while prices:\n",
    "        c = prices.popleft()\n",
    "\n",
    "        count = 0\n",
    "        for i in prices:\n",
    "            if c > i:\n",
    "                count += 1\n",
    "                break\n",
    "            count += 1\n",
    "\n",
    "        answer.append(count)\n",
    "\n",
    "    return answer"
   ]
  },
  {
   "cell_type": "markdown",
   "metadata": {},
   "source": [
    "# 소수 찾기"
   ]
  },
  {
   "cell_type": "markdown",
   "metadata": {},
   "source": [
    "내풀이"
   ]
  },
  {
   "cell_type": "code",
   "execution_count": 272,
   "metadata": {},
   "outputs": [
    {
     "data": {
      "text/plain": [
       "7"
      ]
     },
     "execution_count": 272,
     "metadata": {},
     "output_type": "execute_result"
    }
   ],
   "source": [
    "\n",
    "d = \"0112\"\n",
    "\n",
    "from itertools import permutations,combinations\n",
    "temp = []\n",
    "\n",
    "for a in range(len(d)):\n",
    "    p_list = list(permutations(d,a+1))\n",
    "    for i in range(len(p_list)):\n",
    "        answer = \"\"\n",
    "        for j in p_list[i]:\n",
    "            answer += j\n",
    "        temp.append(int(answer))\n",
    "s_list = list(set(temp))\n",
    "s_max = max(s_list)\n",
    "\n",
    "def is_prime_number(n):\n",
    "    array = [True for i in range(n+1)]\n",
    "\n",
    "    for i in range(2, int(n**0.5) + 1):\n",
    "        if array[i] == True:\n",
    "            j = 2\n",
    "            while i * j <= n:\n",
    "                array[i * j] = False\n",
    "                j += 1\n",
    "\n",
    "    return [ i for i in range(2, n+1) if array[i] ]\n",
    "\n",
    "prime_list = is_prime_number(s_max)\n",
    "\n",
    "num = 0\n",
    "for i in s_list:\n",
    "    if i in prime_list:\n",
    "        num += 1\n",
    "        \n",
    "num"
   ]
  },
  {
   "cell_type": "markdown",
   "metadata": {},
   "source": [
    "다른풀이"
   ]
  },
  {
   "cell_type": "code",
   "execution_count": 274,
   "metadata": {},
   "outputs": [
    {
     "data": {
      "text/plain": [
       "7"
      ]
     },
     "execution_count": 274,
     "metadata": {},
     "output_type": "execute_result"
    }
   ],
   "source": [
    "from itertools import permutations\n",
    "d = \"0112\"\n",
    "\n",
    "def solution(n):\n",
    "    a = set()\n",
    "    for i in range(len(n)):\n",
    "        a |= set(map(int, map(\"\".join, permutations(list(n), i + 1))))\n",
    "    a -= set(range(0, 2))\n",
    "    for i in range(2, int(max(a) ** 0.5) + 1):\n",
    "        a -= set(range(i * 2, max(a) + 1, i))\n",
    "    return len(a)\n",
    "\n",
    "solution(d)"
   ]
  },
  {
   "cell_type": "markdown",
   "metadata": {},
   "source": [
    "# N개의 최소공배수"
   ]
  },
  {
   "cell_type": "code",
   "execution_count": 281,
   "metadata": {},
   "outputs": [],
   "source": []
  },
  {
   "cell_type": "code",
   "execution_count": 288,
   "metadata": {},
   "outputs": [
    {
     "data": {
      "text/plain": [
       "[2, 6, 7, 8, 14]"
      ]
     },
     "execution_count": 288,
     "metadata": {},
     "output_type": "execute_result"
    }
   ],
   "source": [
    "arr = [2,6,8,14,7,20]\n",
    "\n",
    "arr.sort()\n",
    "arr"
   ]
  },
  {
   "cell_type": "code",
   "execution_count": null,
   "metadata": {},
   "outputs": [],
   "source": [
    "2  2*3  2*4  2*7  7 2*10"
   ]
  },
  {
   "cell_type": "code",
   "execution_count": 285,
   "metadata": {},
   "outputs": [
    {
     "data": {
      "text/plain": [
       "168"
      ]
     },
     "execution_count": 285,
     "metadata": {},
     "output_type": "execute_result"
    }
   ],
   "source": [
    "2^5"
   ]
  },
  {
   "cell_type": "markdown",
   "metadata": {},
   "source": [
    "# 수식 최대화"
   ]
  },
  {
   "cell_type": "markdown",
   "metadata": {},
   "source": [
    "내풀이"
   ]
  },
  {
   "cell_type": "code",
   "execution_count": 202,
   "metadata": {},
   "outputs": [
    {
     "data": {
      "text/plain": [
       "60420"
      ]
     },
     "execution_count": 202,
     "metadata": {},
     "output_type": "execute_result"
    }
   ],
   "source": [
    "expression = \"100-200*300-500+20\"\n",
    "\n",
    "def solution(expression):\n",
    "    answer = []\n",
    "    st = \"\"\n",
    "    s_list = []\n",
    "    answer_list = []\n",
    "    from itertools import permutations\n",
    "\n",
    "    for i in expression:\n",
    "        if i in [\"+\",\"-\",\"*\"]:\n",
    "            s_list.append(st)\n",
    "            st = \"\"\n",
    "            s_list.append(i)\n",
    "        else:\n",
    "            st += i\n",
    "    s_list.append(st)\n",
    "    s_list_copy = s_list\n",
    "\n",
    "    for permu in permutations([\"*\",\"-\",\"+\"],3):\n",
    "        for first in permu:\n",
    "\n",
    "            for j in s_list:\n",
    "                answer.append(j)\n",
    "                if len(answer)>2:\n",
    "                    if answer[-2] == first:\n",
    "                        answer.append(str(eval(answer[-3] + answer[-2] + answer[-1])))\n",
    "                        answer.pop(-4)\n",
    "                        answer.pop(-3)\n",
    "                        answer.pop(-2)\n",
    "\n",
    "            s_list = answer\n",
    "            answer = []\n",
    "        answer_list.append(abs(int(s_list[0])))\n",
    "        s_list = s_list_copy\n",
    "\n",
    "    return max(answer_list)\n",
    "\n",
    "solution(expression)"
   ]
  },
  {
   "cell_type": "markdown",
   "metadata": {},
   "source": [
    "다른풀이"
   ]
  },
  {
   "cell_type": "code",
   "execution_count": 206,
   "metadata": {},
   "outputs": [
    {
     "data": {
      "text/plain": [
       "60420"
      ]
     },
     "execution_count": 206,
     "metadata": {},
     "output_type": "execute_result"
    }
   ],
   "source": [
    "def solution(expression):\n",
    "    operations = [('+', '-', '*'),('+', '*', '-'),('-', '+', '*'),('-', '*', '+'),('*', '+', '-'),('*', '-', '+')]\n",
    "    answer = []\n",
    "    for op in operations:\n",
    "        a = op[0]\n",
    "        b = op[1]\n",
    "        temp_list = []\n",
    "        for e in expression.split(a):\n",
    "            temp = [f\"({i})\" for i in e.split(b)]\n",
    "            temp_list.append(f'({b.join(temp)})')\n",
    "        answer.append(abs(eval(a.join(temp_list))))\n",
    "    return max(answer)\n",
    "\n",
    "solution(expression)"
   ]
  },
  {
   "cell_type": "markdown",
   "metadata": {},
   "source": [
    "# 다리를 지나는 트럭"
   ]
  },
  {
   "cell_type": "markdown",
   "metadata": {},
   "source": [
    "내풀이"
   ]
  },
  {
   "cell_type": "code",
   "execution_count": 208,
   "metadata": {},
   "outputs": [
    {
     "data": {
      "text/plain": [
       "19"
      ]
     },
     "execution_count": 208,
     "metadata": {},
     "output_type": "execute_result"
    }
   ],
   "source": [
    "bridge_length = 5\n",
    "weight = 5\n",
    "truck_weights = [2, 2, 2, 2, 1, 1, 1, 1, 1]\n",
    "answer = 0\n",
    "\n",
    "def solution(bridge_length, weight, truck_weights):\n",
    "\n",
    "    stack = [0] * bridge_length\n",
    "    answer = 0\n",
    "    for i in truck_weights:\n",
    "        if sum(stack)+i <= weight:\n",
    "            stack.append(i)\n",
    "            stack.pop(0)\n",
    "            answer += 1\n",
    "\n",
    "        else:\n",
    "            while sum(stack)+i >weight:\n",
    "                stack.pop(0)\n",
    "                stack.append(0)\n",
    "                answer += 1\n",
    "\n",
    "            stack[-1] = i\n",
    "\n",
    "    return answer + bridge_length\n",
    "\n",
    "solution(bridge_length, weight, truck_weights)"
   ]
  },
  {
   "cell_type": "markdown",
   "metadata": {},
   "source": [
    "# 기능개발"
   ]
  },
  {
   "cell_type": "markdown",
   "metadata": {},
   "source": [
    "내풀이"
   ]
  },
  {
   "cell_type": "code",
   "execution_count": 91,
   "metadata": {},
   "outputs": [
    {
     "data": {
      "text/plain": [
       "[1, 3, 2]"
      ]
     },
     "execution_count": 91,
     "metadata": {},
     "output_type": "execute_result"
    }
   ],
   "source": [
    "progresses = [95, 90, 99, 99, 80, 99]\n",
    "speeds = [7, 1, 1, 1, 1, 1]\n",
    "\n",
    "import numpy as np\n",
    "\n",
    "def solution(progresses, speeds):\n",
    "\n",
    "    count = 0\n",
    "    answer = []\n",
    "\n",
    "    while len(progresses) != 0:\n",
    "        progresses = np.array(progresses) + np.array(speeds[-len(progresses):])\n",
    "\n",
    "        if count != 0:\n",
    "            answer.append(count)\n",
    "            count = 0\n",
    "\n",
    "        while progresses[0] >= 100:\n",
    "            progresses = np.delete(progresses, 0)\n",
    "            count += 1\n",
    "\n",
    "            if len(progresses) == 0:\n",
    "                answer.append(count)\n",
    "                break\n",
    "    \n",
    "    return answer\n",
    "\n",
    "solution(progresses, speeds)"
   ]
  },
  {
   "cell_type": "markdown",
   "metadata": {},
   "source": [
    "# 구명보트"
   ]
  },
  {
   "cell_type": "markdown",
   "metadata": {},
   "source": [
    "내풀이 속도 : people.pop(0) < del people[0] < cnt이용    , pop(0) <--- O(n)임 ,이용하지말고, deque() leftpop() 쓰셈"
   ]
  },
  {
   "cell_type": "code",
   "execution_count": 138,
   "metadata": {},
   "outputs": [
    {
     "data": {
      "text/plain": [
       "3"
      ]
     },
     "execution_count": 138,
     "metadata": {},
     "output_type": "execute_result"
    }
   ],
   "source": [
    "people = [70, 50, 80,50]\n",
    "\n",
    "def solution(people, limit):\n",
    "\n",
    "    answer = 0\n",
    "    people.sort()\n",
    "    tmp = people[-1]\n",
    "    f_cnt = 0\n",
    "    b_cnt = -1\n",
    "\n",
    "    while tmp <= limit:\n",
    "        if len(people) == f_cnt + abs(b_cnt)-1:\n",
    "            break\n",
    "        elif tmp + people[f_cnt] <= limit:\n",
    "            tmp += people[f_cnt]\n",
    "            f_cnt += 1\n",
    "\n",
    "        else:\n",
    "            answer += 1\n",
    "            tmp = people[b_cnt]\n",
    "            b_cnt -= 1\n",
    "\n",
    "    return answer\n",
    "\n",
    "solution(people, limit)"
   ]
  },
  {
   "cell_type": "markdown",
   "metadata": {},
   "source": [
    "# 큰 수 만들기 "
   ]
  },
  {
   "cell_type": "markdown",
   "metadata": {},
   "source": [
    "내풀이"
   ]
  },
  {
   "cell_type": "code",
   "execution_count": 110,
   "metadata": {
    "scrolled": false
   },
   "outputs": [
    {
     "data": {
      "text/plain": [
       "'775841'"
      ]
     },
     "execution_count": 110,
     "metadata": {},
     "output_type": "execute_result"
    }
   ],
   "source": [
    "number = \"4177252841\"\n",
    "k = 4\n",
    "def solution(number, k):\n",
    "    stack = []\n",
    "    stack.append(number[0])\n",
    "\n",
    "    for i in range(1,len(number)):\n",
    "        while stack and stack[-1] < number[i] and k > 0:\n",
    "            stack.pop()\n",
    "            k -= 1\n",
    "        if k == 0:\n",
    "            stack.append(number[i:])\n",
    "            break\n",
    "        stack.append(number[i])\n",
    "\n",
    "    if k > 0:\n",
    "        stack = stack[:-k]\n",
    "    answer = \"\".join(stack)\n",
    "    return answer\n",
    "solution(number, k)"
   ]
  },
  {
   "cell_type": "markdown",
   "metadata": {},
   "source": [
    "# 카펫"
   ]
  },
  {
   "cell_type": "code",
   "execution_count": 20,
   "metadata": {},
   "outputs": [
    {
     "data": {
      "text/plain": [
       "[3, 3]"
      ]
     },
     "execution_count": 20,
     "metadata": {},
     "output_type": "execute_result"
    }
   ],
   "source": [
    "brown = 8\n",
    "yellow = 1\n",
    "\n",
    "for i in range(1,int(yellow ** 0.5) + 1):\n",
    "    if yellow % i == 0:\n",
    "        j = yellow // i\n",
    "        if j*2+i*2+4 == brown:\n",
    "            answer = [j+2,i+2]\n",
    "            \n",
    "answer"
   ]
  },
  {
   "cell_type": "markdown",
   "metadata": {},
   "source": [
    "# 숫자의 표현`"
   ]
  },
  {
   "cell_type": "markdown",
   "metadata": {},
   "source": [
    "내풀이"
   ]
  },
  {
   "cell_type": "code",
   "execution_count": 161,
   "metadata": {},
   "outputs": [],
   "source": [
    "n = 135"
   ]
  },
  {
   "cell_type": "code",
   "execution_count": 162,
   "metadata": {},
   "outputs": [
    {
     "data": {
      "text/plain": [
       "8"
      ]
     },
     "execution_count": 162,
     "metadata": {},
     "output_type": "execute_result"
    }
   ],
   "source": [
    "def solution(n):\n",
    "    answer = 0\n",
    "    count = 0\n",
    "\n",
    "    for i in range(2,int(n/2)):\n",
    "        if i % 2 == 0:\n",
    "            if (n / i) - (n//i) == 0.5:\n",
    "                if int(n / i) >= (i / 2):\n",
    "                    count += 1\n",
    "        elif n % i == 0:\n",
    "            if (n / i) >= int(i/2):\n",
    "                count += 1\n",
    "    answer = count+1\n",
    "    return answer\n",
    "\n",
    "solution(n)"
   ]
  },
  {
   "cell_type": "markdown",
   "metadata": {},
   "source": [
    "다른풀이"
   ]
  },
  {
   "cell_type": "code",
   "execution_count": 153,
   "metadata": {},
   "outputs": [
    {
     "data": {
      "text/plain": [
       "4"
      ]
     },
     "execution_count": 153,
     "metadata": {},
     "output_type": "execute_result"
    }
   ],
   "source": [
    "def solution(n):\n",
    "    return len([i  for i in range(1,n+1,2) if n % i is 0])\n",
    "\n",
    "solution(n)"
   ]
  },
  {
   "cell_type": "markdown",
   "metadata": {},
   "source": [
    "# 위장"
   ]
  },
  {
   "cell_type": "markdown",
   "metadata": {},
   "source": [
    "내풀이"
   ]
  },
  {
   "cell_type": "code",
   "execution_count": 260,
   "metadata": {
    "scrolled": true
   },
   "outputs": [
    {
     "data": {
      "text/plain": [
       "5"
      ]
     },
     "execution_count": 260,
     "metadata": {},
     "output_type": "execute_result"
    }
   ],
   "source": [
    "clothes = [[\"yellowhat\", \"headgear\"], [\"bluesunglasses\", \"eyewear\"], [\"green_turban\", \"headgear\"]]\n",
    "\n",
    "from collections import defaultdict\n",
    "\n",
    "def solution(clothes):\n",
    "    answer = 1\n",
    "    c_dict = defaultdict(list)\n",
    "\n",
    "    for value,key in clothes:\n",
    "        c_dict[key].append(value)\n",
    "\n",
    "    for i in c_dict.values():\n",
    "        answer *= len(i)+1\n",
    "\n",
    "    return answer-1\n",
    "\n",
    "solution(clothes)"
   ]
  },
  {
   "cell_type": "markdown",
   "metadata": {},
   "source": [
    "다른풀이"
   ]
  },
  {
   "cell_type": "code",
   "execution_count": 265,
   "metadata": {},
   "outputs": [
    {
     "name": "stdout",
     "output_type": "stream",
     "text": [
      "Counter({'headgear': 2, 'eyewear': 1})\n"
     ]
    },
    {
     "data": {
      "text/plain": [
       "5"
      ]
     },
     "execution_count": 265,
     "metadata": {},
     "output_type": "execute_result"
    }
   ],
   "source": [
    "def solution(clothes):\n",
    "    from collections import Counter\n",
    "    from functools import reduce\n",
    "    \n",
    "    cnt = Counter([kind for name, kind in clothes])\n",
    "    print(cnt)\n",
    "    answer = reduce(lambda x, y: x*(y+1), cnt.values(), 1) - 1\n",
    "    \n",
    "    return answer\n",
    "\n",
    "solution(clothes)"
   ]
  },
  {
   "cell_type": "markdown",
   "metadata": {},
   "source": [
    "# 방문 길이   (다시)"
   ]
  },
  {
   "cell_type": "markdown",
   "metadata": {},
   "source": [
    "내풀이"
   ]
  },
  {
   "cell_type": "code",
   "execution_count": 146,
   "metadata": {},
   "outputs": [
    {
     "data": {
      "text/plain": [
       "7"
      ]
     },
     "execution_count": 146,
     "metadata": {},
     "output_type": "execute_result"
    }
   ],
   "source": [
    "dirs = \"ULURRDLLU\"\n",
    "def solution(dirs):\n",
    "\n",
    "    board = [[[0 for _ in range(5)] for _ in range(11)] for _ in range(11)]\n",
    "    board[5][5][0] = 1\n",
    "\n",
    "    x,y = 5,5\n",
    "    count = 0\n",
    "    dx = [0,0,-1,1]\n",
    "    dy = [-1,1,0,0]\n",
    "    move_types = ['L','R','U','D']\n",
    "\n",
    "    for dir in dirs:\n",
    "        for i in range(len(move_types)):\n",
    "            if dir == move_types[i]:\n",
    "                nx = x + dx[i]\n",
    "                ny = y + dy[i]\n",
    "\n",
    "                break\n",
    "        if nx < 0 or ny < 0 or nx > 10 or ny > 10:\n",
    "            continue\n",
    "        else:\n",
    "            board[nx][ny][0] = 1\n",
    "            if i == 0:\n",
    "                if board[x][y][i+1] == 0 & board[nx][ny][i+2] == 0:\n",
    "                    count += 1\n",
    "            if i == 1:\n",
    "                if board[x][y][i+1] == 0 & board[nx][ny][i] == 0:\n",
    "                    count += 1\n",
    "            if i == 2:\n",
    "                if board[x][y][i+1] == 0 & board[nx][ny][i+2] == 0:\n",
    "                    count += 1\n",
    "            if i == 3:\n",
    "                if board[x][y][i+1] == 0 & board[nx][ny][i] == 0:\n",
    "                    count += 1    \n",
    "            if i == 0:\n",
    "                board[x][y][i+1] = 1\n",
    "                board[nx][ny][i+2] = 1\n",
    "            if i == 1:\n",
    "                board[x][y][i+1] = 1\n",
    "                board[nx][ny][i] = 1\n",
    "            if i == 2:\n",
    "                board[x][y][i+1] = 1\n",
    "                board[nx][ny][i+2] = 1\n",
    "            if i == 3:\n",
    "                board[x][y][i+1] = 1\n",
    "                board[nx][ny][i] = 1    \n",
    "\n",
    "\n",
    "\n",
    "            x,y = nx, ny\n",
    "\n",
    "    return count\n",
    "\n",
    "solution(dirs)"
   ]
  },
  {
   "cell_type": "markdown",
   "metadata": {},
   "source": [
    "다른풀이"
   ]
  },
  {
   "cell_type": "code",
   "execution_count": 175,
   "metadata": {},
   "outputs": [
    {
     "data": {
      "text/plain": [
       "7"
      ]
     },
     "execution_count": 175,
     "metadata": {},
     "output_type": "execute_result"
    }
   ],
   "source": [
    "def solution(dirs):\n",
    "    s = set()\n",
    "    d = {'U': (0,1), 'D': (0, -1), 'R': (1, 0), 'L': (-1, 0)}\n",
    "    x, y = 0, 0\n",
    "    for i in dirs:\n",
    "        nx, ny = x + d[i][0], y + d[i][1]\n",
    "        if -5 <= nx <= 5 and -5 <= ny <= 5:\n",
    "            s.add((x,y,nx,ny))\n",
    "            s.add((nx,ny,x,y))\n",
    "            x, y = nx, ny\n",
    "    return len(s)//2\n",
    "\n",
    "solution(dirs)"
   ]
  },
  {
   "cell_type": "markdown",
   "metadata": {},
   "source": [
    "# 땅따먹기"
   ]
  },
  {
   "cell_type": "markdown",
   "metadata": {},
   "source": [
    "내풀이"
   ]
  },
  {
   "cell_type": "code",
   "execution_count": 145,
   "metadata": {},
   "outputs": [
    {
     "data": {
      "text/plain": [
       "10210"
      ]
     },
     "execution_count": 145,
     "metadata": {},
     "output_type": "execute_result"
    }
   ],
   "source": [
    "land = [[1,2,3,5],[12,90,7,100],[4,3,97,10000],[10,15,20,10010]]\n",
    "\n",
    "for i in range(1,len(land)):\n",
    "    for j in range(4):\n",
    "        tmp = land[i-1].copy()\n",
    "        tmp[j] = 0\n",
    "        land[i][j] = land[i][j] + max(tmp)\n",
    "\n",
    "        \n",
    "max(land[len(land)-1])"
   ]
  },
  {
   "cell_type": "markdown",
   "metadata": {},
   "source": [
    "# 최대 공약수"
   ]
  },
  {
   "cell_type": "code",
   "execution_count": 166,
   "metadata": {},
   "outputs": [
    {
     "data": {
      "text/plain": [
       "21"
      ]
     },
     "execution_count": 166,
     "metadata": {},
     "output_type": "execute_result"
    }
   ],
   "source": [
    "def gcd(x,y):\n",
    "    while y:\n",
    "        x,y = y, x%y        \n",
    "    return x\n",
    "\n",
    "gcd(1071,1029)"
   ]
  },
  {
   "cell_type": "markdown",
   "metadata": {},
   "source": [
    "# 최소공배수"
   ]
  },
  {
   "cell_type": "code",
   "execution_count": 170,
   "metadata": {},
   "outputs": [
    {
     "data": {
      "text/plain": [
       "52479"
      ]
     },
     "execution_count": 170,
     "metadata": {},
     "output_type": "execute_result"
    }
   ],
   "source": [
    "from math import gcd\n",
    "\n",
    "def lcm(x,y):\n",
    "    \n",
    "    return x*y//gcd(x,y)\n",
    "\n",
    "lcm(1071,1029)"
   ]
  },
  {
   "cell_type": "markdown",
   "metadata": {},
   "source": [
    "# N개의 최소공배수"
   ]
  },
  {
   "cell_type": "code",
   "execution_count": 178,
   "metadata": {},
   "outputs": [
    {
     "data": {
      "text/plain": [
       "168"
      ]
     },
     "execution_count": 178,
     "metadata": {},
     "output_type": "execute_result"
    }
   ],
   "source": [
    "arr = [2,6,8,14]\n",
    "\n",
    "from math import gcd\n",
    "\n",
    "def lcm(x,y):\n",
    "    return x*y//gcd(x,y)\n",
    "\n",
    "def solution(arr):\n",
    "    for i in range(1,len(arr)):\n",
    "        arr[i] = lcm(arr[i],arr[i-1])\n",
    "\n",
    "    return arr[-1]\n",
    "\n",
    "solution(arr)"
   ]
  },
  {
   "cell_type": "markdown",
   "metadata": {},
   "source": [
    "# 오픈채팅방"
   ]
  },
  {
   "cell_type": "markdown",
   "metadata": {},
   "source": [
    "내풀이"
   ]
  },
  {
   "cell_type": "code",
   "execution_count": 274,
   "metadata": {},
   "outputs": [
    {
     "data": {
      "text/plain": [
       "['Prodo님이 들어왔습니다.', 'Ryan님이 들어왔습니다.', 'Prodo님이 나갔습니다.', 'Prodo님이 들어왔습니다.']"
      ]
     },
     "execution_count": 274,
     "metadata": {},
     "output_type": "execute_result"
    }
   ],
   "source": [
    "record = [\"Enter uid1234 Muzi\", \"Enter uid4567 Prodo\",\"Leave uid1234\",\"Enter uid1234 Prodo\",\"Change uid4567 Ryan\"]\n",
    "\n",
    "def solution(record):\n",
    "    c_dict = {}\n",
    "    result = []\n",
    "\n",
    "    for i in record:\n",
    "        i_list = i.split(\" \")\n",
    "\n",
    "        if i_list[0] == 'Enter':\n",
    "            c_dict[i_list[1]] = i_list[2]\n",
    "            result.append(f\"{i_list[1]}님이 들어왔습니다.\")\n",
    "\n",
    "        if i_list[0] == 'Change':\n",
    "            c_dict[i_list[1]] = i_list[2]\n",
    "\n",
    "        if i_list[0] == 'Leave':\n",
    "            result.append(f\"{i_list[1]}님이 나갔습니다.\")\n",
    "\n",
    "    for j in range(len(result)):\n",
    "        k = result[j].split(\"님\")\n",
    "        result[j] = k[0].replace(k[0],c_dict[k[0]]) +\"님\"+k[1]\n",
    "\n",
    "    return result\n",
    "\n",
    "solution(record)"
   ]
  },
  {
   "cell_type": "markdown",
   "metadata": {},
   "source": [
    "다른풀이"
   ]
  },
  {
   "cell_type": "code",
   "execution_count": 279,
   "metadata": {},
   "outputs": [
    {
     "name": "stdout",
     "output_type": "stream",
     "text": [
      "{'uid1234': 'Muzi'}\n",
      "{'uid1234': 'Muzi', 'uid4567': 'Prodo'}\n",
      "{'uid1234': 'Prodo', 'uid4567': 'Prodo'}\n",
      "{'uid1234': 'Prodo', 'uid4567': 'Ryan'}\n"
     ]
    },
    {
     "data": {
      "text/plain": [
       "['Prodo님이 들어왔습니다.', 'Ryan님이 들어왔습니다.', 'Prodo님이 나갔습니다.', 'Prodo님이 들어왔습니다.']"
      ]
     },
     "execution_count": 279,
     "metadata": {},
     "output_type": "execute_result"
    }
   ],
   "source": [
    "def solution(record):\n",
    "    answer = []\n",
    "    namespace = {}\n",
    "    printer = {'Enter':'님이 들어왔습니다.', 'Leave':'님이 나갔습니다.'}\n",
    "    for r in record:\n",
    "        rr = r.split(' ')\n",
    "        if rr[0] in ['Enter', 'Change']:\n",
    "            namespace[rr[1]] = rr[2]\n",
    "            print(namespace)\n",
    "\n",
    "    for r in record:\n",
    "        if r.split(' ')[0] != 'Change':\n",
    "            answer.append(namespace[r.split(' ')[1]] + printer[r.split(' ')[0]])\n",
    "\n",
    "    return answer\n",
    "solution(record)"
   ]
  },
  {
   "cell_type": "markdown",
   "metadata": {},
   "source": [
    "# 다음 큰 숫자"
   ]
  },
  {
   "cell_type": "code",
   "execution_count": 22,
   "metadata": {},
   "outputs": [
    {
     "data": {
      "text/plain": [
       "83"
      ]
     },
     "execution_count": 22,
     "metadata": {},
     "output_type": "execute_result"
    }
   ],
   "source": [
    "n = 78\n",
    "def solution(n):\n",
    "    one_num = bin(n)[2:].count(\"1\")\n",
    "    while True:\n",
    "        n += 1\n",
    "        check_num = bin(n)[2:].count(\"1\")\n",
    "        if one_num == check_num:\n",
    "            break\n",
    "    return n\n",
    "solution(n)"
   ]
  },
  {
   "cell_type": "markdown",
   "metadata": {},
   "source": [
    "# 가장 큰 수"
   ]
  },
  {
   "cell_type": "code",
   "execution_count": 188,
   "metadata": {},
   "outputs": [
    {
     "data": {
      "text/plain": [
       "'96666022210'"
      ]
     },
     "execution_count": 188,
     "metadata": {},
     "output_type": "execute_result"
    }
   ],
   "source": [
    "def solution(numbers):\n",
    "    answer = ''\n",
    "    s_numbers = []\n",
    "\n",
    "    for i in numbers:\n",
    "        s = str(i)*3\n",
    "        s_numbers.append([str(i),s[:4]])\n",
    "\n",
    "    s_numbers.sort(reverse = True, key = lambda x: x[1])\n",
    "\n",
    "    for j in s_numbers:\n",
    "        answer += j[0]\n",
    "    if len(answer) == answer.count(\"0\"):\n",
    "        answer = \"0\"\n",
    "    return answer\n",
    "\n",
    "numbers = ['9', '66', '6', '60', '22', '2', '10']\n",
    "\n",
    "solution(numbers)"
   ]
  },
  {
   "cell_type": "markdown",
   "metadata": {},
   "source": [
    "다른풀이"
   ]
  },
  {
   "cell_type": "code",
   "execution_count": 190,
   "metadata": {},
   "outputs": [
    {
     "name": "stdout",
     "output_type": "stream",
     "text": [
      "['9', '66', '6', '60', '22', '2', '10']\n"
     ]
    },
    {
     "data": {
      "text/plain": [
       "'96666022210'"
      ]
     },
     "execution_count": 190,
     "metadata": {},
     "output_type": "execute_result"
    }
   ],
   "source": [
    "def solution(numbers):\n",
    "    numbers = list(map(str, numbers))\n",
    "    print(numbers)\n",
    "    numbers.sort(key=lambda x: x*3, reverse=True)\n",
    "    return str(int(''.join(numbers)))\n",
    "\n",
    "solution(numbers)"
   ]
  },
  {
   "cell_type": "code",
   "execution_count": 1,
   "metadata": {},
   "outputs": [],
   "source": [
    "import functools\n",
    "\n",
    "def comparator(a,b):\n",
    "    t1 = a+b\n",
    "    t2 = b+a\n",
    "    return (int(t1) > int(t2)) - (int(t1) < int(t2)) #  t1이 크다면 1  // t2가 크다면 -1  //  같으면 0\n",
    "\n",
    "def solution(numbers):\n",
    "    n = [str(x) for x in numbers]\n",
    "    n = sorted(n, key=functools.cmp_to_key(comparator),reverse=True)\n",
    "    answer = str(int(''.join(n)))\n",
    "    return answer"
   ]
  },
  {
   "cell_type": "markdown",
   "metadata": {},
   "source": [
    "# 방금 그곡"
   ]
  },
  {
   "cell_type": "code",
   "execution_count": 183,
   "metadata": {},
   "outputs": [
    {
     "data": {
      "text/plain": [
       "'HELLO'"
      ]
     },
     "execution_count": 183,
     "metadata": {},
     "output_type": "execute_result"
    }
   ],
   "source": [
    "m = \"ABCDEFG\"\n",
    "musicinfos = [\"12:00,12:14,HELLO,CDEFGAB\", \"13:00,13:05,WORLD,ABCDEF\"]\n",
    "\n",
    "def solution(m, musicinfos):\n",
    "    m = m.replace(\"C#\",\"c\").replace(\"D#\",\"d\").replace(\"F#\",\"f\").replace(\"G#\",\"g\").replace(\"A#\",\"a\")\n",
    "    result = {}\n",
    "\n",
    "    for i in range(len(musicinfos)):\n",
    "        tmp = musicinfos[i].split(\",\")\n",
    "        time = (int(tmp[1][:2])*60 + int(tmp[1][3:5])) - (int(tmp[0][:2])*60 + int(tmp[0][3:5]))\n",
    "        tmp[3] = tmp[3].replace(\"C#\",\"c\").replace(\"D#\",\"d\").replace(\"F#\",\"f\").replace(\"G#\",\"g\").replace(\"A#\",\"a\")\n",
    "        comp = tmp[3] * (time // len(tmp[3]) + 1)\n",
    "        comp = comp[:time]\n",
    "\n",
    "        if m in comp:\n",
    "            result[tmp[2]] = time\n",
    "\n",
    "    if result:\n",
    "        answer = max(result.keys(),key = (lambda k : result[k]))\n",
    "    else:\n",
    "        answer = '(None)'\n",
    "\n",
    "    return answer\n",
    "\n",
    "solution(m, musicinfos)"
   ]
  },
  {
   "cell_type": "markdown",
   "metadata": {},
   "source": [
    "# 뉴스 클러스터링   ( 몇개 실패)"
   ]
  },
  {
   "cell_type": "code",
   "execution_count": 334,
   "metadata": {},
   "outputs": [
    {
     "data": {
      "text/plain": [
       "13107"
      ]
     },
     "execution_count": 334,
     "metadata": {},
     "output_type": "execute_result"
    }
   ],
   "source": [
    "str1 = 'abcccc'\n",
    "str2 = 'cccdefff'\n",
    "\n",
    "def solution(str1, str2):\n",
    "\n",
    "    l_str1 = []\n",
    "    l_str2 = []\n",
    "    cnt = 0\n",
    "    \n",
    "    for i in range(1,len(str1)):\n",
    "        tmp = str1[i-1].upper() + str1[i].upper()\n",
    "        if tmp.isalpha():\n",
    "            l_str1.append(str1[i-1].upper() + str1[i].upper())\n",
    "            # l_str1 = ['AB', 'BC', 'CC', 'CC', 'CC']\n",
    "            \n",
    "    for i in range(1,len(str2)):\n",
    "        tmp = str2[i-1].upper() + str2[i].upper()\n",
    "        if tmp.isalpha():\n",
    "            l_str2.append(str2[i-1].upper() + str2[i].upper())\n",
    "            # l_str2 = ['CC', 'CC', 'CD', 'DE', 'EF', 'FF', 'FF']\n",
    "            \n",
    "    for i in range(len(l_str1)):\n",
    "        for j in range(len(l_str2)):\n",
    "            if l_str1[i] == l_str2[j]:\n",
    "                cnt += 1\n",
    "                l_str1[i] = \"0\"\n",
    "                l_str2[j] = \"0\"\n",
    "            \n",
    "    try:\n",
    "        jcd = cnt / (len(l_str1) + len(l_str2) - cnt)\n",
    "        if jcd < 0:\n",
    "            jcd = 1\n",
    "\n",
    "    except:\n",
    "        jcd = 1\n",
    "    \n",
    "    return int(jcd*65536)\n",
    "\n",
    "solution(str1, str2)"
   ]
  },
  {
   "cell_type": "code",
   "execution_count": 340,
   "metadata": {},
   "outputs": [
    {
     "data": {
      "text/plain": [
       "('abcccc', 'cccdefff')"
      ]
     },
     "execution_count": 340,
     "metadata": {},
     "output_type": "execute_result"
    }
   ],
   "source": [
    "str1 = 'abcccc'\n",
    "str2 = 'cccdefff'\n",
    "\n",
    "l_str1 = []\n",
    "l_str2 = []\n",
    "cnt = 0\n",
    "str1, str2"
   ]
  },
  {
   "cell_type": "code",
   "execution_count": 341,
   "metadata": {},
   "outputs": [
    {
     "data": {
      "text/plain": [
       "['AB', 'BC', 'CC', 'CC', 'CC']"
      ]
     },
     "execution_count": 341,
     "metadata": {},
     "output_type": "execute_result"
    }
   ],
   "source": [
    "for i in range(1,len(str1)):\n",
    "    tmp = str1[i-1].upper() + str1[i].upper()\n",
    "    if tmp.isalpha():\n",
    "        l_str1.append(str1[i-1].upper() + str1[i].upper())\n",
    "l_str1"
   ]
  },
  {
   "cell_type": "code",
   "execution_count": 342,
   "metadata": {},
   "outputs": [
    {
     "data": {
      "text/plain": [
       "['CC', 'CC', 'CD', 'DE', 'EF', 'FF', 'FF']"
      ]
     },
     "execution_count": 342,
     "metadata": {},
     "output_type": "execute_result"
    }
   ],
   "source": [
    "for i in range(1,len(str2)):\n",
    "    tmp = str2[i-1].upper() + str2[i].upper()\n",
    "    if tmp.isalpha():\n",
    "        l_str2.append(str2[i-1].upper() + str2[i].upper())\n",
    "l_str2"
   ]
  },
  {
   "cell_type": "code",
   "execution_count": 343,
   "metadata": {},
   "outputs": [
    {
     "data": {
      "text/plain": [
       "13107"
      ]
     },
     "execution_count": 343,
     "metadata": {},
     "output_type": "execute_result"
    }
   ],
   "source": [
    "for i in range(len(l_str1)):\n",
    "    for j in range(len(l_str2)):\n",
    "        if l_str1[i] == l_str2[j]:\n",
    "            cnt += 1\n",
    "            l_str1[i] = \"0\"\n",
    "            l_str2[j] = \"0\"\n",
    "            \n",
    "try:\n",
    "    jcd = cnt / (len(l_str1) + len(l_str2) - cnt)\n",
    "    if jcd < 0:\n",
    "        jcd = 1\n",
    "    \n",
    "except:\n",
    "    jcd = 1\n",
    "int(jcd*65536)"
   ]
  },
  {
   "cell_type": "code",
   "execution_count": 339,
   "metadata": {},
   "outputs": [
    {
     "data": {
      "text/plain": [
       "(2, 0.2)"
      ]
     },
     "execution_count": 339,
     "metadata": {},
     "output_type": "execute_result"
    }
   ],
   "source": [
    "cnt,jcd"
   ]
  },
  {
   "cell_type": "markdown",
   "metadata": {},
   "source": [
    "# [1차] 프렌즈 4블록"
   ]
  },
  {
   "cell_type": "markdown",
   "metadata": {},
   "source": [
    "내풀이   :     tmp[k] = list(\"\".join(tmp[k]).replace(\"0\",\"\").rjust(m,\"0\"))"
   ]
  },
  {
   "cell_type": "code",
   "execution_count": 246,
   "metadata": {},
   "outputs": [
    {
     "data": {
      "text/plain": [
       "14"
      ]
     },
     "execution_count": 246,
     "metadata": {},
     "output_type": "execute_result"
    }
   ],
   "source": [
    "board = [\"CCBDE\", \"AAADE\", \"AAABF\", \"CCBBF\"]\n",
    "m = 4\n",
    "n = 5\n",
    "import copy\n",
    "\n",
    "def solution(m, n, board):\n",
    "    answer = 0\n",
    "    board = list(zip(*board))\n",
    "\n",
    "    for i in range(len(board)):\n",
    "        board[i] = list(board[i])\n",
    "\n",
    "    tmp = copy.deepcopy(board)\n",
    "    while True:\n",
    "        for i in range(n-1):\n",
    "            for j in range(m-1):\n",
    "                if board[i][j] == board[i][j+1] == board[i+1][j] == board[i+1][j+1]:\n",
    "                    tmp[i][j] = tmp[i][j+1] = tmp[i+1][j] = tmp[i+1][j+1] = '0'\n",
    "\n",
    "        for k in range(len(tmp)):\n",
    "            tmp[k] = list(\"\".join(tmp[k]).replace(\"0\",\"\").rjust(m,\"0\"))\n",
    "        if board == tmp:\n",
    "            break\n",
    "\n",
    "        board = copy.deepcopy(tmp)\n",
    "\n",
    "    for cnt in board:\n",
    "        answer += cnt.count('0')\n",
    "\n",
    "    return answer\n",
    "\n",
    "solution(m, n, board)"
   ]
  },
  {
   "cell_type": "markdown",
   "metadata": {},
   "source": [
    "# 점프와 순간이동"
   ]
  },
  {
   "cell_type": "markdown",
   "metadata": {},
   "source": [
    "내풀이"
   ]
  },
  {
   "cell_type": "code",
   "execution_count": 270,
   "metadata": {},
   "outputs": [
    {
     "data": {
      "text/plain": [
       "2"
      ]
     },
     "execution_count": 270,
     "metadata": {},
     "output_type": "execute_result"
    }
   ],
   "source": [
    "n = 10\n",
    "\n",
    "def solution(n):\n",
    "    ans = 0\n",
    "    while n != 1:\n",
    "        if n % 2 == 0:\n",
    "            n /= 2\n",
    "        else:\n",
    "            n -= 1\n",
    "            ans += 1\n",
    "\n",
    "    return ans+1\n",
    "\n",
    "solution(n)"
   ]
  },
  {
   "cell_type": "code",
   "execution_count": 271,
   "metadata": {},
   "outputs": [
    {
     "data": {
      "text/plain": [
       "2"
      ]
     },
     "execution_count": 271,
     "metadata": {},
     "output_type": "execute_result"
    }
   ],
   "source": [
    "def solution(n):\n",
    "    return bin(n).count('1')\n",
    "\n",
    "solution(n)"
   ]
  },
  {
   "cell_type": "code",
   "execution_count": 275,
   "metadata": {},
   "outputs": [
    {
     "data": {
      "text/plain": [
       "'0b1110'"
      ]
     },
     "execution_count": 275,
     "metadata": {},
     "output_type": "execute_result"
    }
   ],
   "source": [
    "bin(14)"
   ]
  },
  {
   "cell_type": "code",
   "execution_count": 276,
   "metadata": {},
   "outputs": [
    {
     "data": {
      "text/plain": [
       "14"
      ]
     },
     "execution_count": 276,
     "metadata": {},
     "output_type": "execute_result"
    }
   ],
   "source": [
    "2+4+8"
   ]
  },
  {
   "cell_type": "markdown",
   "metadata": {},
   "source": [
    "# 배달  (한번더)"
   ]
  },
  {
   "cell_type": "code",
   "execution_count": 58,
   "metadata": {},
   "outputs": [
    {
     "data": {
      "text/plain": [
       "4"
      ]
     },
     "execution_count": 58,
     "metadata": {},
     "output_type": "execute_result"
    }
   ],
   "source": [
    "road = [[1,2,1],[2,3,3],[5,2,2],[1,4,2],[5,3,1],[5,4,2]]\n",
    "K = 3\n",
    "N = 5\n",
    "\n",
    "import heapq\n",
    "\n",
    "def solution(N, road, K):\n",
    "    INF = int(1e9)\n",
    "    graph = [[] for i in range(N+1)]\n",
    "    distance = [INF] * (N+1)\n",
    "\n",
    "    for start,end,length in road:\n",
    "        graph[start].append((end,length))\n",
    "        graph[end].append((start,length))\n",
    "\n",
    "    q = []\n",
    "    heapq.heappush(q,(0,1))\n",
    "    distance[1] = 0\n",
    "\n",
    "    while q:\n",
    "        dist,now = heapq.heappop(q)\n",
    "        if distance[now] < dist:\n",
    "            continue\n",
    "        for i in graph[now]:\n",
    "            cost = dist + i[1]\n",
    "            if cost < distance[i[0]]:\n",
    "                distance[i[0]] = cost\n",
    "                heapq.heappush(q,(cost, i[0]))\n",
    "                \n",
    "    return len(list(filter(lambda x:x<=K,distance)))\n",
    "\n",
    "solution(N, road, K)"
   ]
  },
  {
   "cell_type": "markdown",
   "metadata": {},
   "source": [
    "# 파일명 정렬"
   ]
  },
  {
   "cell_type": "markdown",
   "metadata": {},
   "source": [
    "내풀이"
   ]
  },
  {
   "cell_type": "code",
   "execution_count": 111,
   "metadata": {
    "scrolled": true
   },
   "outputs": [
    {
     "data": {
      "text/plain": [
       "['img1.png', 'IMG01.GIF', 'img02.png', 'img2.JPG', 'img10.png', 'img12.png']"
      ]
     },
     "execution_count": 111,
     "metadata": {},
     "output_type": "execute_result"
    }
   ],
   "source": [
    "files = [\"img12.png\", \"img10.png\", \"img02.png\", \"img1.png\", \"IMG01.GIF\", \"img2.JPG\"]\n",
    "def solution(files):\n",
    "    answer = []\n",
    "    files_list = []\n",
    "\n",
    "    for a in files:\n",
    "        for i in range(len(a)):\n",
    "            if a[i].isdigit():\n",
    "                head = a[:i]\n",
    "                nothead = a[i:]\n",
    "                break\n",
    "\n",
    "        if nothead.isdigit():\n",
    "            number = nothead\n",
    "            tail = \"\"\n",
    "        else:\n",
    "            for j in range(len(nothead)):\n",
    "                if not nothead[j].isdigit():\n",
    "                    number = nothead[:j]\n",
    "                    tail = nothead[j:]\n",
    "                    break\n",
    "        files_list.append([head,number,tail])\n",
    "\n",
    "    files_list.sort(key = lambda x: (x[0].lower(), int(x[1])))\n",
    "    for i in files_list:\n",
    "        answer.append(i[0] + i[1] + i[2])\n",
    "    return answer\n",
    "\n",
    "solution(files)"
   ]
  },
  {
   "cell_type": "markdown",
   "metadata": {},
   "source": [
    "다른풀이   : 정규표현식 썼음"
   ]
  },
  {
   "cell_type": "code",
   "execution_count": 114,
   "metadata": {},
   "outputs": [
    {
     "data": {
      "text/plain": [
       "['img1.png', 'IMG01.GIF', 'img02.png', 'img2.JPG', 'img10.png', 'img12.png']"
      ]
     },
     "execution_count": 114,
     "metadata": {},
     "output_type": "execute_result"
    }
   ],
   "source": [
    "import re\n",
    "\n",
    "def solution(files):\n",
    "    a = sorted(files, key=lambda file : int(re.findall('\\d+', file)[0]))\n",
    "    b = sorted(a, key=lambda file : re.split('\\d+', file.lower())[0])\n",
    "    return b\n",
    "solution(files)"
   ]
  },
  {
   "cell_type": "markdown",
   "metadata": {},
   "source": [
    "# 스킬트리"
   ]
  },
  {
   "cell_type": "markdown",
   "metadata": {},
   "source": [
    "내풀이"
   ]
  },
  {
   "cell_type": "code",
   "execution_count": 72,
   "metadata": {},
   "outputs": [
    {
     "data": {
      "text/plain": [
       "5"
      ]
     },
     "execution_count": 72,
     "metadata": {},
     "output_type": "execute_result"
    }
   ],
   "source": [
    "skill = \"C\"\n",
    "skill_trees = [\"BACDE\", \"CBADF\", \"AECB\", \"BDA\",\"D\"]\n",
    "\n",
    "def solution(skill, skill_trees):\n",
    "    answer = 0\n",
    "    INF = 1e9\n",
    "    for i in skill_trees:\n",
    "        tmp = []\n",
    "        for j in skill:\n",
    "            try:\n",
    "                tmp.append(i.index(j))\n",
    "\n",
    "            except:\n",
    "                tmp.append(INF)\n",
    "\n",
    "        tmp_sort = tmp.copy()\n",
    "        tmp_sort.sort()\n",
    "        if len(skill) == 1:\n",
    "            answer = len(skill_trees)\n",
    "\n",
    "        elif tmp_sort == tmp:\n",
    "            answer += 1\n",
    "    return answer\n",
    "\n",
    "solution(skill, skill_trees)"
   ]
  },
  {
   "cell_type": "markdown",
   "metadata": {},
   "source": [
    "다른풀이 : for ~ else 사용"
   ]
  },
  {
   "cell_type": "code",
   "execution_count": 75,
   "metadata": {},
   "outputs": [
    {
     "name": "stdout",
     "output_type": "stream",
     "text": [
      "0\n",
      "1\n",
      "2\n",
      "3\n",
      "4\n",
      "5\n",
      "6\n"
     ]
    }
   ],
   "source": [
    "for i in range(10):\n",
    "    print(i)\n",
    "    if i > 5:\n",
    "        break\n",
    "else:\n",
    "    print(\"없음\")"
   ]
  },
  {
   "cell_type": "markdown",
   "metadata": {},
   "source": [
    "# 압축"
   ]
  },
  {
   "cell_type": "markdown",
   "metadata": {},
   "source": [
    "내풀이"
   ]
  },
  {
   "cell_type": "code",
   "execution_count": 384,
   "metadata": {},
   "outputs": [
    {
     "data": {
      "text/plain": [
       "[20, 15, 2, 5, 15, 18, 14, 15, 20, 27, 29, 31, 36, 30, 32, 34]"
      ]
     },
     "execution_count": 384,
     "metadata": {},
     "output_type": "execute_result"
    }
   ],
   "source": [
    "from collections import defaultdict\n",
    "from collections import deque\n",
    "msg = \"TOBEORNOTTOBEORTOBEORNOT\"\n",
    "def solution(msg):\n",
    "\n",
    "    l_msg = deque(list(msg))\n",
    "    result = []\n",
    "    cnt = 26\n",
    "    letter = \"ABCDEFGHIJKLMNOPQRSTUVWXYZ\"\n",
    "    collect = defaultdict(int)\n",
    "    for i,j in enumerate(letter):\n",
    "        collect[j] = i+1\n",
    "    tmp = l_msg[0]\n",
    "    while len(l_msg) > 1:\n",
    "        tmp = l_msg[0]\n",
    "        while (tmp in collect.keys()) and (len(l_msg) > 1):\n",
    "            l_msg.popleft()\n",
    "            tmp += l_msg[0]\n",
    "\n",
    "        if len(l_msg) > 1:\n",
    "\n",
    "            result.append(collect[tmp[:-1]])\n",
    "            cnt += 1\n",
    "            collect[tmp] = cnt\n",
    "    if tmp in collect.keys():\n",
    "        result.append(collect[tmp])\n",
    "    else:\n",
    "        result.append(collect[tmp[:-1]])\n",
    "        result.append(collect[tmp[-1]])\n",
    "\n",
    "    return result\n",
    "solution(msg)"
   ]
  },
  {
   "cell_type": "markdown",
   "metadata": {},
   "source": [
    "다른풀이    {chr(e + 64): e for e in range(1, 27)}"
   ]
  },
  {
   "cell_type": "code",
   "execution_count": 385,
   "metadata": {},
   "outputs": [
    {
     "data": {
      "text/plain": [
       "[20, 15, 2, 5, 15, 18, 14, 15, 20, 27, 29, 31, 36, 30, 32, 34]"
      ]
     },
     "execution_count": 385,
     "metadata": {},
     "output_type": "execute_result"
    }
   ],
   "source": [
    "def solution(msg):\n",
    "    answer = []\n",
    "    tmp = {chr(e + 64): e for e in range(1, 27)}\n",
    "    num = 27\n",
    "    while msg:\n",
    "        tt = 1\n",
    "        while msg[:tt] in tmp.keys() and tt <= msg.__len__():\n",
    "            tt += 1\n",
    "        tt -= 1\n",
    "        if msg[:tt] in tmp.keys():\n",
    "            answer.append(tmp[msg[:tt]])\n",
    "            tmp[msg[:tt + 1]] = num\n",
    "            num += 1\n",
    "        msg = msg[tt:]\n",
    "    return answer\n",
    "solution(msg)"
   ]
  },
  {
   "cell_type": "code",
   "execution_count": 389,
   "metadata": {},
   "outputs": [
    {
     "data": {
      "text/plain": [
       "True"
      ]
     },
     "execution_count": 389,
     "metadata": {},
     "output_type": "execute_result"
    }
   ],
   "source": [
    "tt = 1\n",
    "tt <= msg.__len__()"
   ]
  },
  {
   "cell_type": "markdown",
   "metadata": {},
   "source": [
    "# 삼각 달팽이"
   ]
  },
  {
   "cell_type": "markdown",
   "metadata": {},
   "source": [
    "내풀이`"
   ]
  },
  {
   "cell_type": "code",
   "execution_count": null,
   "metadata": {},
   "outputs": [],
   "source": [
    "n = 10\n",
    "def solution(n):\n",
    "    answer = []\n",
    "    board = [[0]*n for _ in range(n)]\n",
    "    direction = 0\n",
    "    cnt = 0\n",
    "    dx = -1\n",
    "    dy = 0\n",
    "\n",
    "    for i in range(n,0,-1):\n",
    "        direction += 1\n",
    "\n",
    "        for _ in range(i):\n",
    "            cnt += 1\n",
    "\n",
    "            if direction % 3 == 1:        \n",
    "                dx += 1\n",
    "            if direction % 3 == 2:        \n",
    "                dy += 1\n",
    "            if direction % 3 == 0:        \n",
    "                dx -= 1\n",
    "                dy -= 1\n",
    "            board[dx][dy] = cnt\n",
    "    for i in board:\n",
    "        for j in i:\n",
    "            if j != 0:\n",
    "                answer.append(j) \n",
    "    return answer\n",
    "solution(n)"
   ]
  },
  {
   "cell_type": "markdown",
   "metadata": {},
   "source": [
    "# n진수 게임    (10 -> n진수 변환 중요)"
   ]
  },
  {
   "cell_type": "markdown",
   "metadata": {},
   "source": [
    "내풀이"
   ]
  },
  {
   "cell_type": "code",
   "execution_count": 38,
   "metadata": {},
   "outputs": [
    {
     "data": {
      "text/plain": [
       "'13579BDF01234567'"
      ]
     },
     "execution_count": 38,
     "metadata": {},
     "output_type": "execute_result"
    }
   ],
   "source": [
    "n = 16\n",
    "t= 16\n",
    "p = 2\n",
    "m = 2\n",
    "\n",
    "def convert(num, base):\n",
    "    tmp = \"0123456789ABCDEF\"\n",
    "    q, r = divmod(num,base)\n",
    "    if q == 0:\n",
    "        return tmp[r]\n",
    "    else:\n",
    "        return convert(q,base) + tmp[r]\n",
    "\n",
    "def solution(n, t, m, p):\n",
    "    answer = ''\n",
    "    cnt = -1\n",
    "    string = \"\"\n",
    "\n",
    "    while (p+m*(t-1)) >= len(string):\n",
    "        cnt += 1   \n",
    "        string += convert(cnt,n)\n",
    "\n",
    "    for i in range(p-1,len(string),m):\n",
    "        answer += string[i]\n",
    "    return answer[:t]\n",
    "solution(n, t, m, p)"
   ]
  },
  {
   "cell_type": "markdown",
   "metadata": {},
   "source": [
    "# 이진 변환 반복하기"
   ]
  },
  {
   "cell_type": "code",
   "execution_count": 75,
   "metadata": {},
   "outputs": [
    {
     "data": {
      "text/plain": [
       "[3, 8]"
      ]
     },
     "execution_count": 75,
     "metadata": {},
     "output_type": "execute_result"
    }
   ],
   "source": [
    "s = \"110010101001\"\n",
    "def solution(s):\n",
    "    zcount=0\n",
    "    count=0\n",
    "\n",
    "    while s!=\"1\":\n",
    "        zcount+=s.count(\"0\")\n",
    "        news = s.replace(\"0\", \"\")\n",
    "        s = bin(len(news))[2:]\n",
    "        count+=1\n",
    "\n",
    "    return [count, zcount]\n",
    "\n",
    "solution(s)"
   ]
  },
  {
   "cell_type": "markdown",
   "metadata": {},
   "source": [
    "# 베스트 앨범"
   ]
  },
  {
   "cell_type": "markdown",
   "metadata": {},
   "source": [
    "내풀이"
   ]
  },
  {
   "cell_type": "code",
   "execution_count": 259,
   "metadata": {},
   "outputs": [],
   "source": [
    "genres = [\"classic\", \"pop\", \"classic\", \"pop\", \"classic\", \"classic\"]\n",
    "plays = [400, 600, 150, 600, 500, 500]"
   ]
  },
  {
   "cell_type": "code",
   "execution_count": 260,
   "metadata": {},
   "outputs": [
    {
     "data": {
      "text/plain": [
       "[4, 5, 1, 3]"
      ]
     },
     "execution_count": 260,
     "metadata": {},
     "output_type": "execute_result"
    }
   ],
   "source": [
    "from collections import defaultdict\n",
    "\n",
    "def solution(genres, plays):\n",
    "    a = list(zip(genres, plays))\n",
    "    answer = []\n",
    "    dic = defaultdict(list)\n",
    "    dic_int = defaultdict(int)\n",
    "\n",
    "    for i,(genre,play) in enumerate(a):\n",
    "        dic[genre].append((-play,i))\n",
    "        dic_int[genre] += play\n",
    "\n",
    "    order = sorted(dic_int.keys(), key = lambda x: dic_int[x], reverse = True)\n",
    "\n",
    "    for i in order:\n",
    "        answer.extend([b for a,b in sorted(dic[i])[:2]])\n",
    "    return answer\n",
    "solution(genres, plays)"
   ]
  },
  {
   "cell_type": "markdown",
   "metadata": {},
   "source": [
    "# 자물쇠와 열쇠"
   ]
  },
  {
   "cell_type": "code",
   "execution_count": 264,
   "metadata": {},
   "outputs": [
    {
     "data": {
      "text/plain": [
       "([[0, 0, 0], [1, 0, 0], [0, 1, 1], [1, 1, 1]],\n",
       " [[1, 1, 1], [1, 1, 0], [1, 0, 1]])"
      ]
     },
     "execution_count": 264,
     "metadata": {},
     "output_type": "execute_result"
    }
   ],
   "source": [
    "key = [[0, 0, 0], [1, 0, 0], [0, 1, 1],[1,1,1]]\n",
    "lock = [[1, 1, 1], [1, 1, 0], [1, 0, 1]]\n",
    "key,lock"
   ]
  },
  {
   "cell_type": "code",
   "execution_count": 266,
   "metadata": {},
   "outputs": [
    {
     "name": "stdout",
     "output_type": "stream",
     "text": [
      "[1, 1, 1]\n",
      "[1, 1, 0]\n",
      "[1, 0, 1]\n"
     ]
    }
   ],
   "source": [
    "for i in lock:\n",
    "    print(i)"
   ]
  },
  {
   "cell_type": "code",
   "execution_count": 280,
   "metadata": {},
   "outputs": [
    {
     "data": {
      "text/plain": [
       "(4, 3)"
      ]
     },
     "execution_count": 280,
     "metadata": {},
     "output_type": "execute_result"
    }
   ],
   "source": [
    "key_h = len(key)\n",
    "key_w = len(key[0])\n",
    "key_h,key_w"
   ]
  },
  {
   "cell_type": "code",
   "execution_count": 285,
   "metadata": {},
   "outputs": [
    {
     "data": {
      "text/plain": [
       "3"
      ]
     },
     "execution_count": 285,
     "metadata": {},
     "output_type": "execute_result"
    }
   ],
   "source": [
    "length = len(lock)\n",
    "length"
   ]
  },
  {
   "cell_type": "code",
   "execution_count": 295,
   "metadata": {},
   "outputs": [
    {
     "name": "stdout",
     "output_type": "stream",
     "text": [
      "[0, 0, 0]\n",
      "[1, 0, 0]\n",
      "[0, 1, 1]\n",
      "[1, 1, 1]\n"
     ]
    }
   ],
   "source": [
    "for i in key:\n",
    "    print(i)"
   ]
  },
  {
   "cell_type": "code",
   "execution_count": 305,
   "metadata": {},
   "outputs": [
    {
     "data": {
      "text/plain": [
       "[[0, 0, 0, 0, 0, 0, 0],\n",
       " [0, 0, 0, 0, 0, 0, 0],\n",
       " [0, 0, 0, 0, 0, 0, 0],\n",
       " [0, 0, 1, 1, 1, 0, 0],\n",
       " [0, 0, 1, 1, 0, 0, 0],\n",
       " [0, 0, 1, 0, 1, 0, 0],\n",
       " [0, 0, 0, 0, 0, 0, 0],\n",
       " [0, 0, 0, 0, 0, 0, 0],\n",
       " [0, 0, 0, 0, 0, 0, 0]]"
      ]
     },
     "execution_count": 305,
     "metadata": {},
     "output_type": "execute_result"
    }
   ],
   "source": [
    "import copy\n",
    "board = [[0]*(key_w*2+length-2) for _ in range((key_h*2+length-2))]\n",
    "for i in range(length):\n",
    "    for j in range(length):\n",
    "        board[i+key_h-1][j+key_w-1] = lock[i][j]\n",
    "        \n",
    "board_copy = copy.deepcopy(board)\n",
    "board_copy"
   ]
  },
  {
   "cell_type": "code",
   "execution_count": null,
   "metadata": {
    "scrolled": false
   },
   "outputs": [],
   "source": [
    "for i in range(key_h):\n",
    "    for j in range(key_w):\n",
    "        print(i,j)\n",
    "        board_copy[i][j] = key[i][j]\n",
    "board_copy"
   ]
  },
  {
   "cell_type": "code",
   "execution_count": 315,
   "metadata": {
    "scrolled": true
   },
   "outputs": [
    {
     "data": {
      "text/plain": [
       "[[1, 1, 1, 1, 1, 0, 0], [0, 0, 1, 1, 0, 0, 0], [0, 0, 1, 0, 1, 0, 0]]"
      ]
     },
     "execution_count": 315,
     "metadata": {},
     "output_type": "execute_result"
    }
   ],
   "source": [
    "board_copy[3:6]"
   ]
  },
  {
   "cell_type": "markdown",
   "metadata": {},
   "source": [
    "# 카카오 튜플"
   ]
  },
  {
   "cell_type": "code",
   "execution_count": 78,
   "metadata": {},
   "outputs": [
    {
     "data": {
      "text/plain": [
       "[3, 2, 4, 1]"
      ]
     },
     "execution_count": 78,
     "metadata": {},
     "output_type": "execute_result"
    }
   ],
   "source": [
    "s = \"{{4,2,3},{3},{2,3,4,1},{2,3}}\"\n",
    "\n",
    "from collections import Counter\n",
    "\n",
    "def solution(s):\n",
    "    answer = []\n",
    "    s_list = s[1:-1].replace(\"{\",\"\").replace(\"}\",\"\").split(\",\")\n",
    "    s_dict = dict(Counter(s_list))\n",
    "    s_sort = sorted(s_dict.items(), key = lambda x : x[1],reverse = True)\n",
    "\n",
    "    for i in s_sort:\n",
    "        answer.append(int(i[0]))\n",
    "\n",
    "    return answer\n",
    "\n",
    "solution(s)"
   ]
  },
  {
   "cell_type": "markdown",
   "metadata": {},
   "source": [
    "다른풀이"
   ]
  },
  {
   "cell_type": "code",
   "execution_count": 79,
   "metadata": {},
   "outputs": [
    {
     "data": {
      "text/plain": [
       "[3, 2, 4, 1]"
      ]
     },
     "execution_count": 79,
     "metadata": {},
     "output_type": "execute_result"
    }
   ],
   "source": [
    "import re\n",
    "from collections import Counter\n",
    "\n",
    "def solution(s):\n",
    "\n",
    "    s = Counter(re.findall('\\d+', s))\n",
    "    return list(map(int, [k for k, v in sorted(s.items(), key=lambda x: x[1], reverse=True)]))\n",
    "\n",
    "solution(s)"
   ]
  },
  {
   "cell_type": "code",
   "execution_count": 83,
   "metadata": {},
   "outputs": [
    {
     "data": {
      "text/plain": [
       "['4', '2', '3', '3', '2', '3', '4', '1', '2', '3']"
      ]
     },
     "execution_count": 83,
     "metadata": {},
     "output_type": "execute_result"
    }
   ],
   "source": [
    "# 정규표현식\n",
    "re.findall('\\d+',s)"
   ]
  },
  {
   "cell_type": "markdown",
   "metadata": {},
   "source": [
    "# 불량사용자"
   ]
  },
  {
   "cell_type": "code",
   "execution_count": 48,
   "metadata": {},
   "outputs": [],
   "source": [
    "user_id = [\"frodo\", \"fradi\", \"crodo\", \"abc123\", \"frodoc\"]\n",
    "banned_id = [\"fr*d*\", \"*rodo\", \"******\", \"******\"]"
   ]
  },
  {
   "cell_type": "code",
   "execution_count": 49,
   "metadata": {},
   "outputs": [
    {
     "data": {
      "text/plain": [
       "3"
      ]
     },
     "execution_count": 49,
     "metadata": {},
     "output_type": "execute_result"
    }
   ],
   "source": [
    "from itertools import permutations\n",
    "\n",
    "def ismatch(perlist, banned_id):\n",
    "    for i in range(len(banned_id)):\n",
    "        if len(perlist[i]) == len(banned_id[i]):\n",
    "            for j in range(len(banned_id[i])):\n",
    "                if (perlist[i][j] != banned_id[i][j]) and (banned_id[i][j] != \"*\"):\n",
    "                    return False\n",
    "        else:\n",
    "            return False\n",
    "    return True        \n",
    "\n",
    "def solution(user_id, banned_id):\n",
    "    answer = []\n",
    "    for perlist in permutations(user_id, len(banned_id)):\n",
    "        if ismatch(perlist,banned_id):\n",
    "            ans = set(perlist)\n",
    "            if ans not in answer:\n",
    "                answer.append(ans)\n",
    "    return len(answer)\n",
    "\n",
    "solution(user_id, banned_id)"
   ]
  },
  {
   "cell_type": "markdown",
   "metadata": {},
   "source": [
    "# 보석 쇼핑"
   ]
  },
  {
   "cell_type": "code",
   "execution_count": 86,
   "metadata": {},
   "outputs": [
    {
     "data": {
      "text/plain": [
       "['DIA', 'RUBY', 'RUBY', 'DIA', 'DIA', 'EMERALD', 'SAPPHIRE', 'DIA']"
      ]
     },
     "execution_count": 86,
     "metadata": {},
     "output_type": "execute_result"
    }
   ],
   "source": [
    "gems = [\"DIA\", \"RUBY\", \"RUBY\", \"DIA\", \"DIA\", \"EMERALD\", \"SAPPHIRE\", \"DIA\"]\n",
    "gems"
   ]
  },
  {
   "cell_type": "markdown",
   "metadata": {},
   "source": [
    "정답 but 시간초과"
   ]
  },
  {
   "cell_type": "code",
   "execution_count": 90,
   "metadata": {},
   "outputs": [
    {
     "data": {
      "text/plain": [
       "[3, 7]"
      ]
     },
     "execution_count": 90,
     "metadata": {},
     "output_type": "execute_result"
    }
   ],
   "source": [
    "def solution(gems):\n",
    "    answer = []\n",
    "    set_gems = list(set(gems))\n",
    "    set_length = len(set_gems)\n",
    "    \n",
    "    rang = len(gems) - set_length+1\n",
    "    while rang > 0:\n",
    "        start = 0\n",
    "\n",
    "        for i in range(rang):\n",
    "            if len(set(gems[i:set_length+i])) == len(set_gems):\n",
    "                answer.append(i+1)\n",
    "                answer.append(set_length + i)\n",
    "                break\n",
    "        if answer:\n",
    "            break\n",
    "        set_length += 1\n",
    "        rang -= 1\n",
    "    return answer\n",
    "solution(gems)"
   ]
  },
  {
   "cell_type": "markdown",
   "metadata": {},
   "source": [
    "# 배달"
   ]
  },
  {
   "cell_type": "code",
   "execution_count": null,
   "metadata": {},
   "outputs": [],
   "source": [
    "road = [[1,2,1],[2,3,3],[5,2,2],[1,4,2],[5,3,1],[5,4,2]]\n",
    "N = 5\n",
    "K = 3"
   ]
  },
  {
   "cell_type": "code",
   "execution_count": null,
   "metadata": {},
   "outputs": [],
   "source": [
    "INF = int(1e9)\n",
    "graph = [[] for i in range(N+1)]\n",
    "visited = [False] * (N+1)\n",
    "distance = [INF] * (N+1)\n",
    "\n",
    "graph,visited,distance"
   ]
  },
  {
   "cell_type": "code",
   "execution_count": null,
   "metadata": {},
   "outputs": [],
   "source": [
    "road = [[1,2,1],[2,3,3],[5,2,2],[1,4,2],[5,3,1],[5,4,2]]\n",
    "N = 5\n",
    "K = 3\n",
    "INF = int(1e9)\n",
    "graph = [[] for i in range(N+1)]\n",
    "visited = [False] * (N+1)\n",
    "distance = [INF] * (N+1)\n",
    "\n",
    "for i in road:\n",
    "    graph[i[0]].append((i[1],i[2]))\n",
    "\n",
    "def get_smallest_node():\n",
    "    min_value = INF\n",
    "    index = 0\n",
    "    for i in range(1,N+1):\n",
    "        if distance[i] < min_value and not visited[i]:\n",
    "            min_value = distance[i]\n",
    "            index = i\n",
    "    return index\n",
    "\n",
    "distance[1] = 0\n",
    "visited[1] = True\n",
    "\n",
    "\n",
    "\n",
    "for j in graph[1]:\n",
    "    distance[j[0]] = j[1]\n",
    "    \n",
    "for i in range(N-1):\n",
    "    now = get_smallest_node()\n",
    "    visited[now] = True\n",
    "    print(now,distance,visited,graph[now])\n",
    "    for j in graph[now]:\n",
    "        cost = distance[now] + j[1]\n",
    "        if cost < distance[j[0]]:\n",
    "            distance[j[0]] = cost\n",
    "    \n",
    "len(list(filter(lambda x:x<=K, distance)))"
   ]
  },
  {
   "cell_type": "markdown",
   "metadata": {},
   "source": [
    "# 경주로 건설\n"
   ]
  },
  {
   "cell_type": "markdown",
   "metadata": {},
   "source": [
    "내풀이"
   ]
  },
  {
   "cell_type": "code",
   "execution_count": 1,
   "metadata": {},
   "outputs": [
    {
     "data": {
      "text/plain": [
       "3200"
      ]
     },
     "execution_count": 1,
     "metadata": {},
     "output_type": "execute_result"
    }
   ],
   "source": [
    "board = [[0,0,0,0,0,0],[0,1,1,1,1,0],[0,0,1,0,0,0],[1,0,0,1,0,1],[0,1,0,0,0,1],[0,0,0,0,0,0]]\n",
    "from collections import deque\n",
    "\n",
    "def solution(board):\n",
    "    length = len(board)\n",
    "    INF = 987654321\n",
    "\n",
    "    dx = [-1,1,0,0]\n",
    "    dy = [0,0,-1,1]\n",
    "\n",
    "    def bfs(start):\n",
    "        comp = [[INF] * length for _ in range(length)]\n",
    "        comp[0][0] = 0\n",
    "        q = deque()\n",
    "        q.append(start)\n",
    "\n",
    "        while q:\n",
    "            x,y,head,cost = q.popleft()\n",
    "            for i in range(4):\n",
    "                nx = x + dx[i]\n",
    "                ny = y + dy[i]\n",
    "                n_cost = 600 + cost if i != head else 100+cost\n",
    "                if 0 <= nx < len(board) and 0 <= ny < len(board) and board[nx][ny] == 0:\n",
    "                    if n_cost < comp[nx][ny]:\n",
    "                        comp[nx][ny] = n_cost\n",
    "                        q.append((nx,ny,i,n_cost))\n",
    "        return comp[length-1][length-1]\n",
    "    return min(bfs((0,0,1,0)),bfs((0,0,3,0)))\n",
    "solution(board)"
   ]
  },
  {
   "cell_type": "markdown",
   "metadata": {},
   "source": [
    "다른풀이"
   ]
  },
  {
   "cell_type": "code",
   "execution_count": 2,
   "metadata": {},
   "outputs": [
    {
     "data": {
      "text/plain": [
       "3800"
      ]
     },
     "execution_count": 2,
     "metadata": {},
     "output_type": "execute_result"
    }
   ],
   "source": [
    "board = [[0,0,0,0,0,0,0,1],[0,0,0,0,0,0,0,0],[0,0,0,0,0,1,0,0],[0,0,0,0,1,0,0,0],[0,0,0,1,0,0,0,1],[0,0,1,0,0,0,1,0],[0,1,0,0,0,1,0,0],[1,0,0,0,0,0,0,0]]\n",
    "\n",
    "\n",
    "\n",
    "from collections import deque\n",
    "\n",
    "def move(d,nd):\n",
    "    #커브인 경우 <***직선+커브값이기 때문에 600원을 더해주어야한다.>\n",
    "    if (d=='R' or d=='L') and (nd=='U' or nd=='D'):\n",
    "        return 600\n",
    "    elif (d=='U' or d=='D') and (nd=='R' or nd=='L'):\n",
    "        return 600\n",
    "    \n",
    "    #직선인 경우\n",
    "    else:\n",
    "        return 100\n",
    "    \n",
    "    \n",
    "def search(x,y,c,d,board):\n",
    "    n=len(board)  \n",
    "    result=[]\n",
    "    \n",
    "    # 방향\n",
    "    dx=[0,0,1,-1]\n",
    "    dy=[1,-1,0,0]\n",
    "    D=['R','L','U','D']\n",
    "    \n",
    "    # bfs 탐색 준비\n",
    "    queue=deque()\n",
    "    queue.append([x,y,c,d])\n",
    "    memo=[[0 for x in range(n)] for y in range(n)]\n",
    "    memo[x][y]=1\n",
    "    \n",
    "    while queue:\n",
    "        x,y,c,d=queue.popleft()\n",
    "        \n",
    "        #목표 지점\n",
    "        if x==n-1 and y==n-1:\n",
    "            result.append(c)\n",
    "            continue\n",
    "            \n",
    "        #방향 확인\n",
    "        for i in range(4):\n",
    "            nx,ny=x+dx[i], y+dy[i]\n",
    "            \n",
    "            if 0<=nx and nx<n and 0<=ny and ny<n:\n",
    "                if board[nx][ny]==0:\n",
    "                    nc=c+move(d,D[i])\n",
    "                    \n",
    "                    # 가지 않았던 곳이거나 최소값으로 업데이트 되는 경우 탐색 추가\n",
    "                    if memo[nx][ny]==0 or nc<memo[nx][ny]:\n",
    "                        memo[nx][ny]=nc\n",
    "                        queue.append([nx,ny,nc,D[i]])\n",
    "    \n",
    "    \n",
    "    return min(result)\n",
    "    \n",
    "\n",
    "\n",
    "def solution(board):\n",
    "    answer = 0\n",
    "    \n",
    "    n=len(board)\n",
    "    \n",
    "    # 우선  처음에는 두가지 방향으로 움직일 수 있다.\n",
    "    an1=search(0,0,0,'R',board)\n",
    "    an2=search(0,0,0,'D',board)\n",
    "    \n",
    "    # 두 방향의 결과중에 가장 최소 값\n",
    "    answer=min(an1,an2)\n",
    "    \n",
    "    \n",
    "    return answer\n",
    "solution(board)"
   ]
  },
  {
   "cell_type": "markdown",
   "metadata": {},
   "source": [
    "# 보석쇼핑"
   ]
  },
  {
   "cell_type": "markdown",
   "metadata": {},
   "source": [
    "내풀이 : 11,14 시간초과"
   ]
  },
  {
   "cell_type": "code",
   "execution_count": 144,
   "metadata": {},
   "outputs": [
    {
     "data": {
      "text/plain": [
       "[3, 7]"
      ]
     },
     "execution_count": 144,
     "metadata": {},
     "output_type": "execute_result"
    }
   ],
   "source": [
    "gems = [\"DIA\", \"RUBY\", \"RUBY\", \"DIA\", \"DIA\", \"EMERALD\", \"SAPPHIRE\", \"DIA\"]\n",
    "\n",
    "from collections import deque\n",
    "\n",
    "def solution(gems):\n",
    "    answer = []\n",
    "    q = deque()\n",
    "    comp = list(set(gems))\n",
    "    length = len(gems)\n",
    "    length_comp = len(comp)\n",
    "    \n",
    "    while length_comp <= length and not answer:\n",
    "        i = 0\n",
    "        q = deque()\n",
    "        q.extend(gems[0:length_comp+i])\n",
    "        \n",
    "        while length_comp+i < length+1:\n",
    "            if len(comp) == len(set(q)):\n",
    "                answer = [i+1,length_comp +i]\n",
    "                break\n",
    "                \n",
    "            elif length_comp + i < length:\n",
    "                q.append(gems[length_comp+i])\n",
    "                q.popleft()\n",
    "            i += 1\n",
    "        length_comp += 1\n",
    "\n",
    "\n",
    "    return answer\n",
    "solution(gems)"
   ]
  },
  {
   "cell_type": "markdown",
   "metadata": {},
   "source": [
    "다른풀이 : 투포인터알고리즘 으로 풀기"
   ]
  },
  {
   "cell_type": "code",
   "execution_count": 224,
   "metadata": {},
   "outputs": [
    {
     "data": {
      "text/plain": [
       "['DIA', 'RUBY', 'RUBY', 'DIA', 'DIA', 'EMERALD', 'SAPPHIRE', 'DIA']"
      ]
     },
     "execution_count": 224,
     "metadata": {},
     "output_type": "execute_result"
    }
   ],
   "source": [
    "gems = [\"DIA\", \"RUBY\", \"RUBY\", \"DIA\", \"DIA\", \"EMERALD\", \"SAPPHIRE\", \"DIA\"]\n",
    "start = 0\n",
    "end = 0\n",
    "contain = {}\n",
    "length = len(list(set(gems)))\n",
    "gems"
   ]
  },
  {
   "cell_type": "code",
   "execution_count": 225,
   "metadata": {},
   "outputs": [
    {
     "name": "stdout",
     "output_type": "stream",
     "text": [
      "{}\n",
      "{'DIA': 1}\n",
      "{'DIA': 1, 'RUBY': 1}\n",
      "{'DIA': 1, 'RUBY': 2}\n",
      "{'DIA': 2, 'RUBY': 2}\n",
      "{'DIA': 3, 'RUBY': 2}\n",
      "{'DIA': 3, 'RUBY': 2, 'EMERALD': 1}\n"
     ]
    },
    {
     "data": {
      "text/plain": [
       "{'DIA': 3, 'RUBY': 2, 'EMERALD': 1, 'SAPPHIRE': 1}"
      ]
     },
     "execution_count": 225,
     "metadata": {},
     "output_type": "execute_result"
    }
   ],
   "source": [
    "while len(contain) != length:\n",
    "    print(contain)\n",
    "    if gems[end] not in contain:\n",
    "        contain[gems[end]] = 1\n",
    "    else:\n",
    "        contain[gems[end]] += 1\n",
    "    end += 1\n",
    "end -= 1\n",
    "\n",
    "# while start < end:\n",
    "contain"
   ]
  },
  {
   "cell_type": "code",
   "execution_count": 226,
   "metadata": {
    "scrolled": true
   },
   "outputs": [
    {
     "name": "stdout",
     "output_type": "stream",
     "text": [
      "{'DIA': 3, 'RUBY': 2, 'EMERALD': 1, 'SAPPHIRE': 1} 0\n",
      "{'DIA': 2, 'RUBY': 2, 'EMERALD': 1, 'SAPPHIRE': 1} 1\n"
     ]
    },
    {
     "data": {
      "text/plain": [
       "{'DIA': 2, 'RUBY': 1, 'EMERALD': 1, 'SAPPHIRE': 1}"
      ]
     },
     "execution_count": 226,
     "metadata": {},
     "output_type": "execute_result"
    }
   ],
   "source": [
    "while contain[gems[start]] > 1:\n",
    "    print(contain,start)\n",
    "    contain[gems[start]] -= 1\n",
    "    start += 1\n",
    "contain    "
   ]
  },
  {
   "cell_type": "code",
   "execution_count": 227,
   "metadata": {},
   "outputs": [
    {
     "data": {
      "text/plain": [
       "({'DIA': 2, 'RUBY': 1, 'EMERALD': 1, 'SAPPHIRE': 1}, 2, 6)"
      ]
     },
     "execution_count": 227,
     "metadata": {},
     "output_type": "execute_result"
    }
   ],
   "source": [
    "contain,start,end"
   ]
  },
  {
   "cell_type": "code",
   "execution_count": 231,
   "metadata": {},
   "outputs": [
    {
     "data": {
      "text/plain": [
       "[1, 5]"
      ]
     },
     "execution_count": 231,
     "metadata": {},
     "output_type": "execute_result"
    }
   ],
   "source": [
    "gems = [\"ZZZ\", \"YYY\", \"NNNN\", \"YYY\", \"BBB\"]\n",
    "def solution(gems):\n",
    "    start = 0\n",
    "    end = 0\n",
    "    contain = {}\n",
    "    length = len(list(set(gems)))\n",
    "    \n",
    "    while len(contain) != length:\n",
    "        if gems[end] not in contain:\n",
    "            contain[gems[end]] = 1\n",
    "        else:\n",
    "            contain[gems[end]] += 1\n",
    "        end += 1\n",
    "    end -= 1\n",
    "    \n",
    "    while contain[gems[start]] > 1:\n",
    "        contain[gems[start]] -= 1\n",
    "        start += 1\n",
    "    answer = [start+1,end+1]\n",
    "    return answer\n",
    "solution(gems)"
   ]
  },
  {
   "cell_type": "markdown",
   "metadata": {},
   "source": [
    "# 숫자게임"
   ]
  },
  {
   "cell_type": "code",
   "execution_count": 1,
   "metadata": {},
   "outputs": [],
   "source": [
    "A = [5,1,3,7]\n",
    "B = [2,2,6,8]"
   ]
  },
  {
   "cell_type": "code",
   "execution_count": 2,
   "metadata": {},
   "outputs": [
    {
     "data": {
      "text/plain": [
       "3"
      ]
     },
     "execution_count": 2,
     "metadata": {},
     "output_type": "execute_result"
    }
   ],
   "source": [
    "def solution(A, B):\n",
    "    answer = 0\n",
    "    A.sort()\n",
    "    B.sort() \n",
    "    idx = 0\n",
    "\n",
    "\n",
    "    for comp in A:\n",
    "        while idx < len(B):\n",
    "            if comp < B[idx]:\n",
    "                idx += 1\n",
    "                answer += 1\n",
    "                break\n",
    "            else:\n",
    "                idx += 1\n",
    "                continue\n",
    "        if idx == len(B):\n",
    "            break\n",
    "    return answer\n",
    "solution(A, B)"
   ]
  },
  {
   "cell_type": "markdown",
   "metadata": {},
   "source": [
    "다른풀이"
   ]
  },
  {
   "cell_type": "code",
   "execution_count": 3,
   "metadata": {},
   "outputs": [
    {
     "data": {
      "text/plain": [
       "3"
      ]
     },
     "execution_count": 3,
     "metadata": {},
     "output_type": "execute_result"
    }
   ],
   "source": [
    "def solution(A, B):\n",
    "    answer = 0\n",
    "    A.sort()\n",
    "    B.sort()\n",
    "    j = 0\n",
    "\n",
    "    for i in range(len(A)):\n",
    "        if A[j] < B[i]:\n",
    "            answer = answer + 1\n",
    "            j = j+1\n",
    "\n",
    "    return answer\n",
    "solution(A, B)"
   ]
  },
  {
   "cell_type": "markdown",
   "metadata": {},
   "source": [
    "# 기지국 설치"
   ]
  },
  {
   "cell_type": "markdown",
   "metadata": {},
   "source": [
    "내풀이"
   ]
  },
  {
   "cell_type": "code",
   "execution_count": 4,
   "metadata": {},
   "outputs": [
    {
     "data": {
      "text/plain": [
       "3"
      ]
     },
     "execution_count": 4,
     "metadata": {},
     "output_type": "execute_result"
    }
   ],
   "source": [
    "n = 16\n",
    "stations = [9]\n",
    "w = 2\n",
    "\n",
    "import math\n",
    "def solution(n, stations, w):\n",
    "\n",
    "    answer = 0\n",
    "    right = 0\n",
    "    rang = 2*w+1\n",
    "\n",
    "    if len(stations) == 1:\n",
    "        answer += math.ceil((stations[0]-w-1) / rang)\n",
    "\n",
    "        answer += math.ceil((n-(stations[0]+w)) / rang)\n",
    "\n",
    "    else:\n",
    "        answer += math.ceil((stations[0]-w-1) / rang)\n",
    "\n",
    "        for i in range(1, len(stations)):\n",
    "            left = stations[i]-w\n",
    "            right = stations[i-1]+w\n",
    "\n",
    "            if left+1 > right:\n",
    "                answer += math.ceil((left-right-1) / rang)\n",
    "        answer += math.ceil((n-(stations[i]+w)) / rang)\n",
    "    return answer\n",
    "solution(n, stations, w)"
   ]
  },
  {
   "cell_type": "markdown",
   "metadata": {},
   "source": [
    "다른풀이"
   ]
  },
  {
   "cell_type": "code",
   "execution_count": 5,
   "metadata": {},
   "outputs": [
    {
     "data": {
      "text/plain": [
       "3"
      ]
     },
     "execution_count": 5,
     "metadata": {},
     "output_type": "execute_result"
    }
   ],
   "source": [
    "def solution(n, stations, w):\n",
    "    ans = 0\n",
    "    idx = 0\n",
    "    location = 1\n",
    "\n",
    "    while(location <= n) :\n",
    "        if(idx < len(stations) and location >= stations[idx]-w) :\n",
    "            location = stations[idx]+w+1\n",
    "            idx += 1\n",
    "        else :\n",
    "            location += 2*w+1\n",
    "            ans += 1\n",
    "    return ans\n",
    "solution(n, stations, w)"
   ]
  },
  {
   "cell_type": "markdown",
   "metadata": {},
   "source": [
    "# 스티커 모으기(동적계획법)"
   ]
  },
  {
   "cell_type": "code",
   "execution_count": 6,
   "metadata": {},
   "outputs": [
    {
     "data": {
      "text/plain": [
       "36"
      ]
     },
     "execution_count": 6,
     "metadata": {},
     "output_type": "execute_result"
    }
   ],
   "source": [
    "sticker = [14, 6, 5, 11, 3, 9, 2, 10]\n",
    "\n",
    "def solution(sticker):\n",
    "    length = len(sticker)\n",
    "    if length == 1:\n",
    "        return sticker[0]\n",
    "\n",
    "    memo = [0 for i in range(length)]\n",
    "    memo[0] = sticker[0]\n",
    "    memo[1] = memo[0]    \n",
    "    for i in range(2,length-1):\n",
    "        memo[i] = max(memo[i-1], memo[i-2] + sticker[i])\n",
    "    value1 = memo[-2]\n",
    "\n",
    "    memo = [0 for i in range(length)]\n",
    "    memo[0] = 0\n",
    "    memo[1] = sticker[1]\n",
    "\n",
    "    for i in range(2,length):\n",
    "        memo[i] = max(memo[i-1], memo[i-2] + sticker[i])\n",
    "\n",
    "    return max(value1,memo[-1])\n",
    "solution(sticker)"
   ]
  },
  {
   "cell_type": "markdown",
   "metadata": {},
   "source": [
    "# 로또의 최고순위와 최저순위"
   ]
  },
  {
   "cell_type": "code",
   "execution_count": 55,
   "metadata": {},
   "outputs": [],
   "source": [
    "lottos = [0,0,0,0,0,0]\n",
    "win_nums = [31, 10, 45, 1, 6, 19]"
   ]
  },
  {
   "cell_type": "code",
   "execution_count": 56,
   "metadata": {},
   "outputs": [
    {
     "name": "stdout",
     "output_type": "stream",
     "text": [
      "6 0\n"
     ]
    },
    {
     "data": {
      "text/plain": [
       "[1, 6]"
      ]
     },
     "execution_count": 56,
     "metadata": {},
     "output_type": "execute_result"
    }
   ],
   "source": [
    "answer = 0\n",
    "cnt_z = 0\n",
    "for i in lottos:\n",
    "    if i == 0:\n",
    "        cnt_z += 1\n",
    "    elif i in win_nums:\n",
    "        answer += 1\n",
    "        \n",
    "rank = cnt_z + answer\n",
    "print(rank,answer)\n",
    "if 6-rank == 6:\n",
    "    rank = 1\n",
    "    \n",
    "if 6-answer == 6:\n",
    "    answer = 1\n",
    "\n",
    "\n",
    "[7-rank,7-answer]"
   ]
  },
  {
   "cell_type": "markdown",
   "metadata": {},
   "source": [
    "다른풀이"
   ]
  },
  {
   "cell_type": "code",
   "execution_count": 57,
   "metadata": {},
   "outputs": [],
   "source": [
    "def solution(lottos, win_nums):\n",
    "\n",
    "    rank=[6,6,5,4,3,2,1]\n",
    "\n",
    "    cnt_0 = lottos.count(0)\n",
    "    ans = 0\n",
    "    for x in win_nums:\n",
    "        if x in lottos:\n",
    "            ans += 1\n",
    "    return rank[cnt_0 + ans],rank[ans]"
   ]
  },
  {
   "cell_type": "markdown",
   "metadata": {},
   "source": [
    "# 행렬 테두리 회전하기 (리스트 컴프 1~24까지)"
   ]
  },
  {
   "cell_type": "code",
   "execution_count": 280,
   "metadata": {},
   "outputs": [],
   "source": [
    "import copy\n",
    "rows = 6\n",
    "columns = 6\n",
    "queries = [[2,2,5,4],[3,3,6,6],[5,1,6,3]]\n",
    "result = []"
   ]
  },
  {
   "cell_type": "code",
   "execution_count": 266,
   "metadata": {},
   "outputs": [
    {
     "data": {
      "text/plain": [
       "[[1, 2, 3, 4, 5, 6],\n",
       " [7, 8, 9, 10, 11, 12],\n",
       " [13, 14, 15, 16, 17, 18],\n",
       " [19, 20, 21, 22, 23, 24],\n",
       " [25, 26, 27, 28, 29, 30],\n",
       " [31, 32, 33, 34, 35, 36]]"
      ]
     },
     "execution_count": 266,
     "metadata": {},
     "output_type": "execute_result"
    }
   ],
   "source": [
    "board = [[i+j*columns for i in range(1,columns+1)] for j in range(rows)]\n",
    "tmp = copy.deepcopy(board)\n",
    "board"
   ]
  },
  {
   "cell_type": "code",
   "execution_count": 260,
   "metadata": {},
   "outputs": [
    {
     "name": "stdout",
     "output_type": "stream",
     "text": [
      "1 1 4 3\n",
      "2 2 5 5\n",
      "4 0 5 2\n"
     ]
    },
    {
     "data": {
      "text/plain": [
       "[8, 10, 25]"
      ]
     },
     "execution_count": 260,
     "metadata": {},
     "output_type": "execute_result"
    }
   ],
   "source": [
    "for i in queries:\n",
    "    x1,y1,x2,y2 = i[0]-1,i[1]-1,i[2]-1,i[3]-1\n",
    "    lst = []\n",
    "    print(x1,y1,x2,y2)\n",
    "    i = 0\n",
    "    while y1 + i < y2:\n",
    "        tmp[x1][y1+i+1] = board[x1][y1+i]\n",
    "        i += 1\n",
    "        lst.append(board[x1][y1+i])\n",
    "    i = 0\n",
    "    while x1 + i < x2:\n",
    "        tmp[x1+i+1][y2] = board[x1+i][y2]\n",
    "        i += 1\n",
    "        lst.append(board[x1+i][y2])\n",
    "    i = 0\n",
    "    while y2 - i > y1:\n",
    "        tmp[x2][y2-i-1] = board[x2][y2-i]\n",
    "        i += 1\n",
    "        lst.append(board[x2][y2-i])\n",
    "    i = 0\n",
    "    while x2 - i > x1:\n",
    "        tmp[x2-i-1][y1] = board[x2-i][y1]\n",
    "        i += 1\n",
    "        lst.append(board[x2-i][y1])\n",
    "\n",
    "    result.append(min(lst))\n",
    "    board = copy.deepcopy(tmp)\n",
    "result"
   ]
  },
  {
   "cell_type": "code",
   "execution_count": 284,
   "metadata": {},
   "outputs": [],
   "source": [
    "import copy\n",
    "rows = 6\n",
    "columns = 6\n",
    "queries = [[2,2,5,4],[3,3,6,6],[5,1,6,3]]\n",
    "result = []\n",
    "\n",
    "import copy\n",
    "\n",
    "def solution(rows, columns, queries):\n",
    "    result = []\n",
    "    board = [[i+j*columns for i in range(1,columns+1)] for j in range(rows)]\n",
    "    tmp = copy.deepcopy(board)\n",
    "    \n",
    "    for i in queries:\n",
    "        x1,y1,x2,y2 = i[0]-1,i[1]-1,i[2]-1,i[3]-1\n",
    "        lst = []\n",
    "        \n",
    "        #북 테두리\n",
    "        i = 0\n",
    "        while y1 + i < y2:\n",
    "            tmp[x1][y1+i+1] = board[x1][y1+i]\n",
    "            i += 1\n",
    "            lst.append(board[x1][y1+i])\n",
    "            \n",
    "        #동 테두리\n",
    "        i = 0\n",
    "        while x1 + i < x2:\n",
    "            tmp[x1+i+1][y2] = board[x1+i][y2]\n",
    "            i += 1\n",
    "            lst.append(board[x1+i][y2])\n",
    "            \n",
    "        # 남 테두리\n",
    "        i = 0\n",
    "        while y2 - i > y1:\n",
    "            tmp[x2][y2-i-1] = board[x2][y2-i]\n",
    "            i += 1\n",
    "            lst.append(board[x2][y2-i])\n",
    "            \n",
    "        # 서 테두리\n",
    "        i = 0\n",
    "        while x2 - i > x1:\n",
    "            tmp[x2-i-1][y1] = board[x2-i][y1]\n",
    "            i += 1\n",
    "            lst.append(board[x2-i][y1])\n",
    "\n",
    "        result.append(min(lst))\n",
    "        board = copy.deepcopy(tmp)\n",
    "    return result"
   ]
  },
  {
   "cell_type": "code",
   "execution_count": 304,
   "metadata": {},
   "outputs": [
    {
     "name": "stdout",
     "output_type": "stream",
     "text": [
      "0 0 1 1\n",
      "[1, 2, 3]\n",
      "[4, 5, 6]\n",
      "[7, 8, 9]\n",
      "[1, 2, 5, 4]\n",
      "\n",
      "0 1 1 2\n",
      "[4, 1, 3]\n",
      "[5, 2, 6]\n",
      "[7, 8, 9]\n",
      "[1, 3, 6, 2]\n",
      "\n",
      "1 0 2 1\n",
      "[4, 2, 1]\n",
      "[5, 6, 3]\n",
      "[7, 8, 9]\n",
      "[5, 6, 8, 7]\n",
      "\n",
      "1 1 2 2\n",
      "[4, 2, 1]\n",
      "[7, 5, 3]\n",
      "[8, 6, 9]\n",
      "[5, 3, 9, 6]\n",
      "\n"
     ]
    },
    {
     "data": {
      "text/plain": [
       "[1, 1, 5, 3]"
      ]
     },
     "execution_count": 304,
     "metadata": {},
     "output_type": "execute_result"
    }
   ],
   "source": [
    "import copy\n",
    "rows = 3\n",
    "columns = 3\n",
    "queries = [[1,1,2,2],[1,2,2,3],[2,1,3,2],[2,2,3,3]]\n",
    "result = []\n",
    "\n",
    "import copy\n",
    "\n",
    "def solution(rows, columns, queries):\n",
    "    result = []\n",
    "    board = [[i+j*columns for i in range(1,columns+1)] for j in range(rows)]\n",
    "    # tmp = copy.deepcopy(board)\n",
    "    \n",
    "    for i in queries:\n",
    "        tmp = copy.deepcopy(board)\n",
    "        x1,y1,x2,y2 = i[0]-1,i[1]-1,i[2]-1,i[3]-1\n",
    "        print(x1,y1,x2,y2)\n",
    "        lst = []\n",
    "        \n",
    "        #북 테두리\n",
    "        tmp[x1][y1+1:y2+1] = board[x1][y1:y2]\n",
    "        lst.append(min(board[x1][y1:y2]))\n",
    "            \n",
    "        #동 테두리\n",
    "        i = 0\n",
    "        while x1 + i < x2:\n",
    "            tmp[x1+i+1][y2] = board[x1+i][y2]\n",
    "            \n",
    "            lst.append(board[x1+i][y2])\n",
    "            i += 1\n",
    "            \n",
    "        # 남 테두리\n",
    "\n",
    "        tmp[x2][y1:y2] = board[x2][y1+1:y2+1]\n",
    "\n",
    "        lst.append(min(board[x2][y1+1:y2+1]))\n",
    "            \n",
    "        # 서 테두리\n",
    "        i = 0\n",
    "        while x2 - i > x1:\n",
    "            tmp[x2-i-1][y1] = board[x2-i][y1]\n",
    "            \n",
    "            lst.append(board[x2-i][y1])\n",
    "            i += 1\n",
    "        \n",
    "        for i in board:\n",
    "            print(i)\n",
    "        print(lst)\n",
    "        print()\n",
    "        \n",
    "        result.append(min(lst))\n",
    "        board = copy.deepcopy(tmp)\n",
    "    return result\n",
    "solution(rows, columns, queries)"
   ]
  },
  {
   "cell_type": "markdown",
   "metadata": {},
   "source": [
    "# 자물쇠와 열쇠   (deepcopy) 안쓰는 거"
   ]
  },
  {
   "cell_type": "code",
   "execution_count": 61,
   "metadata": {},
   "outputs": [
    {
     "data": {
      "text/plain": [
       "([[0, 0, 0], [1, 0, 0], [0, 1, 1]], [[1, 1, 1], [1, 1, 0], [1, 0, 1]])"
      ]
     },
     "execution_count": 61,
     "metadata": {},
     "output_type": "execute_result"
    }
   ],
   "source": [
    "key = [[0, 0, 0], [1, 0, 0], [0, 1, 1]]\n",
    "lock = [[1, 1, 1], [1, 1, 0], [1, 0, 1]]\n",
    "key, lock"
   ]
  },
  {
   "cell_type": "code",
   "execution_count": 62,
   "metadata": {},
   "outputs": [
    {
     "data": {
      "text/plain": [
       "[[0, 0, 0, 0, 0, 0, 0],\n",
       " [0, 0, 0, 0, 0, 0, 0],\n",
       " [0, 0, 0, 0, 0, 0, 0],\n",
       " [0, 0, 0, 0, 0, 0, 0],\n",
       " [0, 0, 0, 0, 0, 0, 0],\n",
       " [0, 0, 0, 0, 0, 0, 0],\n",
       " [0, 0, 0, 0, 0, 0, 0]]"
      ]
     },
     "execution_count": 62,
     "metadata": {},
     "output_type": "execute_result"
    }
   ],
   "source": [
    "len_lock = len(lock)\n",
    "len_key = len(key)\n",
    "board = [[0 for _ in range(len_key*2+len_lock-2)] for _ in range(len_key*2+len_lock-2)]\n",
    "board"
   ]
  },
  {
   "cell_type": "code",
   "execution_count": 63,
   "metadata": {},
   "outputs": [
    {
     "data": {
      "text/plain": [
       "[[0, 0, 0, 0, 0, 0, 0],\n",
       " [0, 0, 0, 0, 0, 0, 0],\n",
       " [0, 0, 1, 1, 1, 0, 0],\n",
       " [0, 0, 1, 1, 0, 0, 0],\n",
       " [0, 0, 1, 0, 1, 0, 0],\n",
       " [0, 0, 0, 0, 0, 0, 0],\n",
       " [0, 0, 0, 0, 0, 0, 0]]"
      ]
     },
     "execution_count": 63,
     "metadata": {},
     "output_type": "execute_result"
    }
   ],
   "source": [
    "for i in range(len_key-1,len_key-1+len_lock):    \n",
    "    for j in range(len_key-1,len_key-1+len_lock):\n",
    "        board[i][j] = lock[i-len_key+1][j-len_key+1]\n",
    "board"
   ]
  },
  {
   "cell_type": "code",
   "execution_count": 59,
   "metadata": {
    "scrolled": true
   },
   "outputs": [
    {
     "data": {
      "text/plain": [
       "([[0, 0, 0, 0, 0, 0, 0],\n",
       "  [0, 0, 0, 0, 0, 0, 0],\n",
       "  [0, 0, 1, 1, 1, 0, 0],\n",
       "  [0, 0, 1, 1, 0, 0, 0],\n",
       "  [0, 0, 1, 0, 1, 0, 0],\n",
       "  [0, 0, 0, 0, 0, 0, 0],\n",
       "  [0, 0, 0, 0, 0, 0, 0]],\n",
       " [[0, 0, 0, 0, 0, 0, 0],\n",
       "  [0, 0, 0, 0, 0, 0, 0],\n",
       "  [0, 0, 1, 1, 1, 0, 0],\n",
       "  [0, 0, 1, 1, 0, 0, 0],\n",
       "  [0, 0, 1, 0, 1, 0, 0],\n",
       "  [0, 0, 0, 0, 0, 0, 0],\n",
       "  [0, 0, 0, 0, 0, 0, 0]])"
      ]
     },
     "execution_count": 59,
     "metadata": {},
     "output_type": "execute_result"
    }
   ],
   "source": [
    "comp = []\n",
    "for _ in board:\n",
    "    comp = [item[:] for item in board]\n",
    "board,comp"
   ]
  },
  {
   "cell_type": "code",
   "execution_count": 67,
   "metadata": {},
   "outputs": [
    {
     "name": "stdout",
     "output_type": "stream",
     "text": [
      "0 0\n",
      "0 1\n",
      "0 2\n",
      "1 0\n",
      "1 1\n",
      "1 2\n",
      "2 0\n",
      "2 1\n",
      "2 2\n",
      "3 0\n",
      "3 1\n",
      "3 2\n",
      "4 0\n",
      "4 1\n",
      "4 2\n"
     ]
    }
   ],
   "source": [
    "for i in range(len(board)-len_key+1):\n",
    "    for j in range(len_key):\n",
    "        print(i,j)"
   ]
  },
  {
   "cell_type": "code",
   "execution_count": 76,
   "metadata": {},
   "outputs": [
    {
     "name": "stdout",
     "output_type": "stream",
     "text": [
      "[0, 0, 0]\n",
      "[1, 0, 0]\n",
      "[0, 1, 1]\n"
     ]
    }
   ],
   "source": [
    "for i in key:\n",
    "    print(i)"
   ]
  },
  {
   "cell_type": "markdown",
   "metadata": {},
   "source": [
    "## 2차원 배열 90 도 회전"
   ]
  },
  {
   "cell_type": "code",
   "execution_count": 77,
   "metadata": {},
   "outputs": [
    {
     "data": {
      "text/plain": [
       "[[0, 1, 0], [1, 0, 0], [1, 0, 0]]"
      ]
     },
     "execution_count": 77,
     "metadata": {},
     "output_type": "execute_result"
    }
   ],
   "source": [
    "def rotate_matrix90(matrix):\n",
    "    col = len(matrix[0])\n",
    "    new_matrix = [[0] * len(matrix) for _ in range(len(matrix))]\n",
    "    for i in range(len(matrix)):\n",
    "        for j in range(len(matrix[0])):\n",
    "            new_matrix[i][j] = matrix[col-j-1][i]\n",
    "    return new_matrix\n",
    "\n",
    "rotate_matrix90(key)"
   ]
  },
  {
   "cell_type": "markdown",
   "metadata": {},
   "source": [
    "### 이진탐색코드"
   ]
  },
  {
   "cell_type": "code",
   "execution_count": 4,
   "metadata": {},
   "outputs": [
    {
     "name": "stdout",
     "output_type": "stream",
     "text": [
      "2\n",
      "4\n",
      "1\n"
     ]
    },
    {
     "data": {
      "text/plain": [
       "2"
      ]
     },
     "execution_count": 4,
     "metadata": {},
     "output_type": "execute_result"
    }
   ],
   "source": [
    "array = [0,2,4,6,8,10,12,14,16,18]\n",
    "target = 4\n",
    "start = 0\n",
    "end = 9\n",
    "while start <= end:\n",
    "    print(mid)\n",
    "    mid = (start + end) // 2\n",
    "    if array[mid] == target:\n",
    "        answer = mid\n",
    "        break\n",
    "    elif array[mid] > target:\n",
    "        end = mid - 1\n",
    "    else:\n",
    "        start = mid + 1\n",
    "mid"
   ]
  },
  {
   "cell_type": "code",
   "execution_count": 90,
   "metadata": {},
   "outputs": [
    {
     "name": "stdout",
     "output_type": "stream",
     "text": [
      "4\n",
      "1\n",
      "2\n",
      "2 4\n"
     ]
    }
   ],
   "source": [
    "array = [0,2,4,6,8,10,12,14,16,18]\n",
    "target = 4\n",
    "start = 0\n",
    "end = 9\n",
    "\n",
    "while start <= end:\n",
    "    mid = (start+end)//2\n",
    "    print(mid)\n",
    "    if target == array[mid]:\n",
    "        print(mid, array[mid])\n",
    "        break\n",
    "    elif target > array[mid]:\n",
    "        start = mid+1\n",
    "    else:\n",
    "        end = mid - 1\n",
    "    "
   ]
  },
  {
   "cell_type": "markdown",
   "metadata": {},
   "source": [
    "# 이중우선순위 큐"
   ]
  },
  {
   "cell_type": "code",
   "execution_count": 103,
   "metadata": {},
   "outputs": [
    {
     "data": {
      "text/plain": [
       "[333, -45]"
      ]
     },
     "execution_count": 103,
     "metadata": {},
     "output_type": "execute_result"
    }
   ],
   "source": [
    "operations = [\"I -45\", \"I 653\", \"D 1\", \"I -642\", \"I 45\", \"I 97\", \"D 1\", \"D -1\", \"I 333\"]\n",
    "\n",
    "import heapq\n",
    "\n",
    "def solution(operations):\n",
    "    min_q = []\n",
    "    max_q = []\n",
    "    for i in operations:\n",
    "\n",
    "        a = i.split(\" \")[0]\n",
    "        b = int(i.split(\" \")[1])\n",
    "        if a == \"I\":\n",
    "            heapq.heappush(min_q, b)\n",
    "            heapq.heappush(max_q, -b)\n",
    "\n",
    "\n",
    "        if a == \"D\":\n",
    "            if b == -1:\n",
    "                try:\n",
    "                    target = heapq.heappop(min_q)\n",
    "                    max_q.remove(-target)\n",
    "                except:\n",
    "                    continue\n",
    "            if b == 1:\n",
    "                try:\n",
    "                    target = heapq.heappop(max_q)\n",
    "                    min_q.remove(-target)\n",
    "                except:\n",
    "                    continue\n",
    "\n",
    "    return [max(min_q),min(min_q)] if min_q else [0,0]\n",
    "solution(operations)"
   ]
  },
  {
   "cell_type": "markdown",
   "metadata": {},
   "source": [
    "# 섬 연결하기"
   ]
  },
  {
   "cell_type": "code",
   "execution_count": 110,
   "metadata": {},
   "outputs": [
    {
     "data": {
      "text/plain": [
       "[[0, 1, 1], [0, 2, 2], [1, 2, 5], [1, 3, 1], [2, 3, 8]]"
      ]
     },
     "execution_count": 110,
     "metadata": {},
     "output_type": "execute_result"
    }
   ],
   "source": [
    "n = 4\n",
    "costs = [[0,1,1],[0,2,2],[1,2,5],[1,3,1],[2,3,8]]\n",
    "costs"
   ]
  },
  {
   "cell_type": "code",
   "execution_count": 111,
   "metadata": {},
   "outputs": [
    {
     "name": "stdout",
     "output_type": "stream",
     "text": [
      "0 1 1\n",
      "0 2 2\n",
      "1 2 5\n",
      "1 3 1\n",
      "2 3 8\n"
     ]
    }
   ],
   "source": [
    "for start,end,cost in costs:\n",
    "    print(start,end,cost)"
   ]
  },
  {
   "cell_type": "code",
   "execution_count": 120,
   "metadata": {},
   "outputs": [
    {
     "data": {
      "text/plain": [
       "[[0, 1, 2, 1000000000],\n",
       " [1000000000, 0, 5, 1],\n",
       " [1000000000, 1000000000, 0, 8],\n",
       " [1000000000, 1000000000, 1000000000, 0]]"
      ]
     },
     "execution_count": 120,
     "metadata": {},
     "output_type": "execute_result"
    }
   ],
   "source": [
    "import heapq\n",
    "\n",
    "INF = int(1e9)\n",
    "\n",
    "graph = [[INF] * n for _ in range(n)]\n",
    "for a in range(n):\n",
    "    for b in range(n):\n",
    "        if a == b:\n",
    "            graph[a][b] = 0\n",
    "for start,end,cost in costs:\n",
    "    graph[start][end] = cost\n",
    "graph"
   ]
  },
  {
   "cell_type": "code",
   "execution_count": 121,
   "metadata": {
    "scrolled": true
   },
   "outputs": [
    {
     "data": {
      "text/plain": [
       "[[0, 1, 2, 2],\n",
       " [1000000000, 0, 5, 1],\n",
       " [1000000000, 1000000000, 0, 8],\n",
       " [1000000000, 1000000000, 1000000000, 0]]"
      ]
     },
     "execution_count": 121,
     "metadata": {},
     "output_type": "execute_result"
    }
   ],
   "source": [
    "for k in range(n):\n",
    "    for i in range(n):\n",
    "        for j in range(n):\n",
    "            graph[i][j] = min(graph[i][j], graph[i][k] + graph[k][j])\n",
    "graph"
   ]
  },
  {
   "cell_type": "markdown",
   "metadata": {},
   "source": [
    "# 여행경로"
   ]
  },
  {
   "cell_type": "code",
   "execution_count": 142,
   "metadata": {},
   "outputs": [
    {
     "data": {
      "text/plain": [
       "defaultdict(list,\n",
       "            {'ICN': ['ATL', 'SFO'], 'SFO': ['ATL'], 'ATL': ['ICN', 'SFO']})"
      ]
     },
     "execution_count": 142,
     "metadata": {},
     "output_type": "execute_result"
    }
   ],
   "source": [
    "from collections import defaultdict\n",
    "tickets = [[\"ICN\", \"SFO\"], [\"ICN\", \"ATL\"], [\"SFO\", \"ATL\"], [\"ATL\", \"ICN\"], [\"ATL\",\"SFO\"]]\n",
    "tickets = sorted(tickets,key = lambda x: x[1])\n",
    "tickets\n",
    "\n",
    "dic = defaultdict(list)\n",
    "for i in range(len(tickets)):\n",
    "    dic[tickets[i][0]].append(tickets[i][1])\n",
    "dic"
   ]
  },
  {
   "cell_type": "code",
   "execution_count": 154,
   "metadata": {},
   "outputs": [
    {
     "data": {
      "text/plain": [
       "['ICN', 'ATL', 'ICN', 'SFO', 'ATL', 'SFO']"
      ]
     },
     "execution_count": 154,
     "metadata": {},
     "output_type": "execute_result"
    }
   ],
   "source": [
    "def solution(tickets):\n",
    "    tickets.sort(reverse=True)\n",
    "    routes = dict()\n",
    "    for t1, t2 in tickets:\n",
    "        if t1 in routes:\n",
    "            routes[t1].append(t2)\n",
    "        else:\n",
    "            routes[t1] = [t2]\n",
    "    st = ['ICN']\n",
    "    ans = []\n",
    "    while st:\n",
    "        top = st[-1]\n",
    "        if top not in routes or len(routes[top])==0:\n",
    "            ans.append(st.pop())\n",
    "        else:\n",
    "            st.append(routes[top].pop())\n",
    "    ans.reverse()\n",
    "    return ans\n",
    "solution(tickets)"
   ]
  },
  {
   "cell_type": "markdown",
   "metadata": {},
   "source": [
    "# 가장 먼 노드"
   ]
  },
  {
   "cell_type": "code",
   "execution_count": 183,
   "metadata": {},
   "outputs": [
    {
     "data": {
      "text/plain": [
       "[[3, 6], [4, 3], [3, 2], [1, 3], [1, 2], [2, 4], [5, 2]]"
      ]
     },
     "execution_count": 183,
     "metadata": {},
     "output_type": "execute_result"
    }
   ],
   "source": [
    "n = 6\n",
    "\n",
    "vertex = [[3, 6], [4, 3], [3, 2], [1, 3], [1, 2], [2, 4], [5, 2]]\n",
    "vertex"
   ]
  },
  {
   "cell_type": "code",
   "execution_count": 184,
   "metadata": {},
   "outputs": [
    {
     "data": {
      "text/plain": [
       "3"
      ]
     },
     "execution_count": 184,
     "metadata": {},
     "output_type": "execute_result"
    }
   ],
   "source": [
    "INF = int(1e9)\n",
    "graph = [[INF] * n for _ in range(n)]\n",
    "for i in range(n):\n",
    "    for j in range(n):\n",
    "        if i==j:\n",
    "            graph[i][j] = 0\n",
    "for i,j in vertex:\n",
    "    graph[i-1][j-1] = 1\n",
    "    graph[j-1][i-1] = 1\n",
    "for k in range(n):\n",
    "    for i in range(n):\n",
    "        for j in range(n):\n",
    "            graph[i][j] = min(graph[i][j], graph[i][k] + graph[k][j])\n",
    "graph[0].count(max(graph[0]))    "
   ]
  },
  {
   "cell_type": "markdown",
   "metadata": {},
   "source": [
    "# 입국심사   (이진 탐색)"
   ]
  },
  {
   "cell_type": "code",
   "execution_count": 216,
   "metadata": {},
   "outputs": [],
   "source": [
    "n = 6\n",
    "times = [7, 10]"
   ]
  },
  {
   "cell_type": "code",
   "execution_count": 219,
   "metadata": {},
   "outputs": [
    {
     "data": {
      "text/plain": [
       "28"
      ]
     },
     "execution_count": 219,
     "metadata": {},
     "output_type": "execute_result"
    }
   ],
   "source": [
    "left = 1\n",
    "right = max(times) * n\n",
    "answer = 0\n",
    "\n",
    "while left <= right:\n",
    "    mid = (left + right) // 2\n",
    "    people = 0\n",
    "    for i in times:\n",
    "        people += (mid // i)       \n",
    "        if people >= n:\n",
    "            break\n",
    "    if people < n:\n",
    "        left = mid + 1\n",
    "    else:\n",
    "        answer = mid\n",
    "        right = mid - 1\n",
    "answer"
   ]
  },
  {
   "cell_type": "markdown",
   "metadata": {},
   "source": [
    "# 정수 삼각형"
   ]
  },
  {
   "cell_type": "code",
   "execution_count": 50,
   "metadata": {
    "scrolled": true
   },
   "outputs": [
    {
     "data": {
      "text/plain": [
       "30"
      ]
     },
     "execution_count": 50,
     "metadata": {},
     "output_type": "execute_result"
    }
   ],
   "source": [
    "triangle = [[7], [3, 8], [8, 1, 0], [2, 7, 4, 4], [4, 5, 2, 6, 5]]\n",
    "def solution(triangle):\n",
    "    for i in range(1,len(triangle)):\n",
    "        triangle[i][0] += triangle[i-1][0]\n",
    "        triangle[i][-1] += triangle[i-1][-1]\n",
    "    for i in range(2,len(triangle)):\n",
    "        for j in range(1,len(triangle[i])-1):\n",
    "            triangle[i][j] = max(triangle[i-1][j-1]+triangle[i][j],triangle[i-1][j]+triangle[i][j])\n",
    "\n",
    "    return max(triangle[-1])\n",
    "solution(triangle)"
   ]
  },
  {
   "cell_type": "markdown",
   "metadata": {},
   "source": [
    "# 등굣길"
   ]
  },
  {
   "cell_type": "code",
   "execution_count": 77,
   "metadata": {},
   "outputs": [],
   "source": [
    "puddles = [[2, 2]]\n",
    "m = 4\n",
    "n = 3\n",
    "INF = int(1e9)"
   ]
  },
  {
   "cell_type": "code",
   "execution_count": 78,
   "metadata": {},
   "outputs": [
    {
     "data": {
      "text/plain": [
       "[[0, 0, 0, 0], [0, 0, 0, 0], [0, 0, 0, 0]]"
      ]
     },
     "execution_count": 78,
     "metadata": {},
     "output_type": "execute_result"
    }
   ],
   "source": [
    "graph = [[0] * m for _ in range(n)]\n",
    "graph"
   ]
  },
  {
   "cell_type": "code",
   "execution_count": 79,
   "metadata": {},
   "outputs": [
    {
     "name": "stdout",
     "output_type": "stream",
     "text": [
      "[2, 2]\n"
     ]
    },
    {
     "data": {
      "text/plain": [
       "[[0, 0, 0, 0], [0, 1000000000, 0, 0], [0, 0, 0, 0]]"
      ]
     },
     "execution_count": 79,
     "metadata": {},
     "output_type": "execute_result"
    }
   ],
   "source": [
    "for i in puddles:\n",
    "    print(i)\n",
    "    graph[i[0]-1][i[1]-1] = INF\n",
    "graph"
   ]
  },
  {
   "cell_type": "markdown",
   "metadata": {},
   "source": [
    "# 도둑질"
   ]
  },
  {
   "cell_type": "code",
   "execution_count": 93,
   "metadata": {},
   "outputs": [
    {
     "data": {
      "text/plain": [
       "4"
      ]
     },
     "execution_count": 93,
     "metadata": {},
     "output_type": "execute_result"
    }
   ],
   "source": [
    "money = [1, 2, 3, 1]\n",
    "\n",
    "def solution(money):\n",
    "    answer = 0\n",
    "    memo = [0 for _ in range(len(money))]\n",
    "    memo[0] = money[0]\n",
    "    memo[1] = memo[0]\n",
    "    for i in range(2,len(memo)-1):\n",
    "        memo[i] = max(memo[i-1], memo[i-2] + money[i])\n",
    "    value = memo[-2]\n",
    "\n",
    "    memo = [0 for _ in range(len(money))]\n",
    "    memo[0] = 0\n",
    "    memo[1] = money[1]\n",
    "    for i in range(2,len(memo)):\n",
    "        memo[i] = max(memo[i-1], memo[i-2] + money[i])\n",
    "\n",
    "    return max(value,memo[-1])\n",
    "\n",
    "solution(money)"
   ]
  }
 ],
 "metadata": {
  "kernelspec": {
   "display_name": "Python 3",
   "language": "python",
   "name": "python3"
  },
  "language_info": {
   "codemirror_mode": {
    "name": "ipython",
    "version": 3
   },
   "file_extension": ".py",
   "mimetype": "text/x-python",
   "name": "python",
   "nbconvert_exporter": "python",
   "pygments_lexer": "ipython3",
   "version": "3.7.4"
  }
 },
 "nbformat": 4,
 "nbformat_minor": 2
}
